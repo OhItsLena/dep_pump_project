{
  "cells": [
    {
      "cell_type": "markdown",
      "metadata": {
        "id": "DhW1RO3DJG05"
      },
      "source": [
        "# Data Exploration Project - Pumps"
      ]
    },
    {
      "cell_type": "markdown",
      "metadata": {
        "id": "3mqm_gVtJG1B"
      },
      "source": [
        "## Business Understanding\n",
        "\n",
        "Daten über verschiedene Brunnen in einem afrikanischen Land.\n",
        "\n",
        "**Können wir vorhersagen welche Brunnen defekt, wartungsbedürftig oder voll funktional sind?**"
      ]
    },
    {
      "cell_type": "markdown",
      "metadata": {
        "id": "s9QK4M6bJG1C"
      },
      "source": [
        "## Data Understanding"
      ]
    },
    {
      "cell_type": "code",
      "execution_count": 21,
      "metadata": {
        "colab": {
          "base_uri": "https://localhost:8080/"
        },
        "id": "ZxThrpAOJG1D",
        "outputId": "813156a8-80e8-4e76-b55b-7c5b99168ff9"
      },
      "outputs": [],
      "source": [
        "import pandas as pd\n",
        "import matplotlib.pyplot as plt \n",
        "import seaborn as sns\n",
        "import numpy as np\n",
        "from category_encoders import TargetEncoder, BinaryEncoder\n",
        "from sklearn.pipeline import Pipeline, make_pipeline\n",
        "from sklearn.preprocessing import OrdinalEncoder, LabelEncoder, StandardScaler, OneHotEncoder, MinMaxScaler\n",
        "from sklearn.impute import SimpleImputer\n",
        "from sklearn.compose import ColumnTransformer\n",
        "from sklearn.base import BaseEstimator, TransformerMixin"
      ]
    },
    {
      "cell_type": "markdown",
      "metadata": {
        "id": "1rejyUeKJG1F"
      },
      "source": [
        "Einlesen der Trainings- und Testdaten."
      ]
    },
    {
      "cell_type": "code",
      "execution_count": 22,
      "metadata": {
        "id": "NWpTu_GUJG1H"
      },
      "outputs": [],
      "source": [
        "df_pump_train = pd.read_csv('pump_train.csv')\n",
        "df_pump_test = pd.read_csv('pump_test.csv')"
      ]
    },
    {
      "cell_type": "markdown",
      "metadata": {
        "id": "GYb79TGsJG1K"
      },
      "source": [
        "### Data Dictionary\n",
        "| Variable | Beschreibung |\n",
        "| -------- | ------------ |\n",
        "| amount_tsh | Total static head (amount water available to waterpoint) |\n",
        "| date_recorded | The date the row was entered |\n",
        "| funder | Who funded the well |\n",
        "| gps_height | Altitude of the well |\n",
        "| installer | Organization that installed the well |\n",
        "| longitude | GPS coordinate |\n",
        "| latitude | GPS coordinate |\n",
        "| wpt_name | Name of the waterpoint if there is one |\n",
        "| num_private | ? |\n",
        "| basin | Geographic water basin |\n",
        "| subvillage | Geographic location |\n",
        "| region | Geographic location |\n",
        "| region_code | Geographic location (coded) |\n",
        "| district_code | Geographic location (coded) |\n",
        "| lga | Geographic location |\n",
        "| ward | Geographic location |\n",
        "| population | Population around the well |\n",
        "| public_meeting | True/False |\n",
        "| recorded_by | Group entering this row of data \n",
        "| scheme_management | Who operates the waterpoint |\n",
        "| scheme_name | Who operates the waterpoint |\n",
        "| permit | If the waterpoint is permitted |\n",
        "| construction_year | Year the waterpoint was constructed \n",
        "| extraction_type | The kind of extraction the waterpoint uses \n",
        "| extraction_type_group | The kind of extraction the waterpoint uses |\n",
        "| extraction_type_class | The kind of extraction the waterpoint uses \n",
        "| management | How the waterpoint is managed |\n",
        "| management_group | How the waterpoint is managed |\n",
        "| payment | What the water costs |\n",
        "| payment_type | What the water costs |\n",
        "| water_quality | The quality of the water |\n",
        "| quality_group | The quality of the water |\n",
        "| quantity | The quantity of water |\n",
        "| quantity_group | The quantity of water |\n",
        "| source | The source of the water |\n",
        "| source_type | The source of the water |\n",
        "| source_class | The source of the water |\n",
        "| waterpoint_type | The kind of waterpoint |\n",
        "| waterpoint_type_group | The kind of waterpoint |\n",
        "| status_group | functional or non-functional or functional needs repair |"
      ]
    },
    {
      "cell_type": "markdown",
      "metadata": {
        "id": "vzPQZEd8JG1N"
      },
      "source": [
        "### Data Analysis"
      ]
    },
    {
      "cell_type": "markdown",
      "metadata": {
        "id": "8In45gg4JG1f"
      },
      "source": [
        "## Data Preparation"
      ]
    },
    {
      "cell_type": "markdown",
      "metadata": {
        "id": "NlH2VvAuJG11"
      },
      "source": [
        "## Pipeline"
      ]
    },
    {
      "cell_type": "markdown",
      "metadata": {
        "id": "EPAKPAhiJG11"
      },
      "source": [
        "[Categoric Encoder Package ->](https://contrib.scikit-learn.org/category_encoders/index.html)"
      ]
    },
    {
      "cell_type": "code",
      "execution_count": 23,
      "metadata": {},
      "outputs": [],
      "source": [
        "class YesNoEncoder(BaseEstimator, TransformerMixin):\n",
        "    def __init__(self, add_column = True):\n",
        "        self.add_column = add_column\n",
        "    \n",
        "    def fit(self, X, y=None):\n",
        "        return self\n",
        "    \n",
        "    def transform(self, X, y=None):\n",
        "        if self.add_column:\n",
        "            has_name = np.where(X['wpt_name']!= 'none', 1, 0)\n",
        "            Xcopy = X\n",
        "            Xcopy['wpt_name'] = has_name\n",
        "        return Xcopy"
      ]
    },
    {
      "cell_type": "code",
      "execution_count": 24,
      "metadata": {},
      "outputs": [],
      "source": [
        "class MyImputer(BaseEstimator, TransformerMixin):\n",
        "    def __init__(self, fill_value=\"other\"):\n",
        "        self.fill_value = fill_value\n",
        "        return None\n",
        "    \n",
        "    def fit(self, X, y=None):\n",
        "        return self\n",
        "    \n",
        "    def transform(self, X, y=None):\n",
        "        return np.array([self.fill_value if str(x)==str(np.nan) else x for x in X]).reshape(-1,1)"
      ]
    },
    {
      "cell_type": "code",
      "execution_count": 25,
      "metadata": {},
      "outputs": [],
      "source": [
        "scheme_pipeline = Pipeline([\n",
        "('imputer', MyImputer(fill_value=\"other\")),\n",
        "('one_hot', OneHotEncoder())\n",
        "])"
      ]
    },
    {
      "cell_type": "code",
      "execution_count": 26,
      "metadata": {},
      "outputs": [],
      "source": [
        "class YearAdder(BaseEstimator, TransformerMixin):\n",
        "    def __init__(self):\n",
        "        return None\n",
        "    \n",
        "    def fit(self, X, y=None):\n",
        "        return self\n",
        "    \n",
        "    def transform(self, X, y=None):\n",
        "        date_column = pd.Series(X)\n",
        "        return np.array(pd.DatetimeIndex(date_column).year).reshape(-1,1)\n",
        "        "
      ]
    },
    {
      "cell_type": "code",
      "execution_count": 27,
      "metadata": {},
      "outputs": [],
      "source": [
        "year_pipeline = Pipeline([\n",
        "    (\"add_year\", YearAdder()),\n",
        "    (\"ord_enc\", OrdinalEncoder()),\n",
        "    (\"scale\", MinMaxScaler())\n",
        "])"
      ]
    },
    {
      "cell_type": "code",
      "execution_count": 28,
      "metadata": {},
      "outputs": [],
      "source": [
        "class AmountPerCapitaAdder(BaseEstimator, TransformerMixin):\n",
        "    def __init__(self):\n",
        "        return None\n",
        "    \n",
        "    def fit(self, X, y=None):\n",
        "        return self\n",
        "    \n",
        "    def transform(self, X, y=None):\n",
        "        date_column = pd.Series(X)\n",
        "        return np.array(pd.DatetimeIndex(date_column).year).reshape(-1,1)"
      ]
    },
    {
      "cell_type": "code",
      "execution_count": 32,
      "metadata": {
        "colab": {
          "base_uri": "https://localhost:8080/",
          "height": 947
        },
        "id": "uO_zmkM9JG11",
        "outputId": "c2aab073-68d9-41e7-fa7e-49605825c5cf"
      },
      "outputs": [
        {
          "name": "stderr",
          "output_type": "stream",
          "text": [
            "C:\\Users\\ti-he\\AppData\\Roaming\\Python\\Python37\\site-packages\\category_encoders\\target_encoder.py:94: FutureWarning: Default parameter min_samples_leaf will change in version 2.6.See https://github.com/scikit-learn-contrib/category_encoders/issues/327\n",
            "  category=FutureWarning)\n",
            "C:\\Users\\ti-he\\AppData\\Roaming\\Python\\Python37\\site-packages\\category_encoders\\target_encoder.py:99: FutureWarning: Default parameter smoothing will change in version 2.6.See https://github.com/scikit-learn-contrib/category_encoders/issues/327\n",
            "  category=FutureWarning)\n"
          ]
        }
      ],
      "source": [
        "df_train = df_pump_train.copy()\n",
        "\n",
        "# add new target variables\n",
        "\n",
        "df_train[\"t_functional\"] = df_train[\"status_group\"].apply(lambda x: 0 if x==\"non functional\" else 1)\n",
        "df_train[\"t_needs_rep\"] = df_train[\"status_group\"].apply(lambda x: 1 if x==\"functional needs repair\" else 0)\n",
        "\n",
        "# drop outliers\n",
        "df_train = df_train.drop(df_train[df_train.longitude == 0].index)\n",
        "\n",
        "# add new feature manually\n",
        "df_train[\"amount_per_capita\"] = df_train.apply(lambda x: x[\"amount_tsh\"]/x[\"population\"] if x[\"population\"] != 0 else 0, axis=1)\n",
        "\n",
        "y_train = df_train.loc[:,'status_group']\n",
        "le = LabelEncoder()\n",
        "y_train = le.fit_transform(y_train)\n",
        "\n",
        "y_train_f = df_train[\"t_functional\"]\n",
        "y_train_r = df_train[\"t_needs_rep\"]\n",
        "\n",
        "col_imp = Pipeline([\n",
        "    ('simp_inputer', SimpleImputer(strategy='constant', fill_value='Unknown')),\n",
        "    ('target_enc', TargetEncoder())\n",
        "])\n",
        "\n",
        "col_trans = ColumnTransformer(transformers=[\n",
        "    ['col_imp', col_imp, ['funder', 'installer', 'subvillage']],\n",
        "    ['target_enc', TargetEncoder(), ['lga', 'ward']],\n",
        "    ['std_scalar', StandardScaler(), ['gps_height', 'longitude', 'latitude']],\n",
        "    ['oh_enc', OneHotEncoder(), ['basin']],\n",
        "    ['bin_enc', BinaryEncoder(), ['basin', 'region', 'region_code', 'district_code']],\n",
        "    ['cust_trans', YesNoEncoder(), ['wpt_name']],\n",
        "    [\"num\", MinMaxScaler(), [\"amount_tsh\", \"population\", \"amount_per_capita\"]],\n",
        "    [\"one_hot\", OneHotEncoder(), [\"extraction_type_class\"]],\n",
        "    [\"scheme\", scheme_pipeline, \"scheme_management\"],\n",
        "    [\"year\",  year_pipeline, \"date_recorded\"]\n",
        "], remainder='drop')"
      ]
    },
    {
      "cell_type": "code",
      "execution_count": 30,
      "metadata": {},
      "outputs": [
        {
          "name": "stderr",
          "output_type": "stream",
          "text": [
            "C:\\Users\\ti-he\\AppData\\Roaming\\Python\\Python37\\site-packages\\category_encoders\\target_encoder.py:94: FutureWarning: Default parameter min_samples_leaf will change in version 2.6.See https://github.com/scikit-learn-contrib/category_encoders/issues/327\n",
            "  category=FutureWarning)\n",
            "C:\\Users\\ti-he\\AppData\\Roaming\\Python\\Python37\\site-packages\\category_encoders\\target_encoder.py:99: FutureWarning: Default parameter smoothing will change in version 2.6.See https://github.com/scikit-learn-contrib/category_encoders/issues/327\n",
            "  category=FutureWarning)\n"
          ]
        }
      ],
      "source": [
        "result = col_trans.fit_transform(X=df_train, y=y_train)"
      ]
    },
    {
      "cell_type": "code",
      "execution_count": 31,
      "metadata": {},
      "outputs": [
        {
          "data": {
            "text/plain": [
              "(48958, 53)"
            ]
          },
          "execution_count": 31,
          "metadata": {},
          "output_type": "execute_result"
        }
      ],
      "source": [
        "result.shape"
      ]
    }
  ],
  "metadata": {
    "colab": {
      "collapsed_sections": [
        "s9QK4M6bJG1C",
        "ipC-gfzyJG1f",
        "d9ImwcSDJG1f",
        "Cmef2rTsJG1h",
        "JyW8WC6hJG1j",
        "cJsudcKNJG1k",
        "etBpNARcJG1n",
        "WjosGzqvJG1p",
        "ZGbcckpOJG1q",
        "3O54UikJJG1r",
        "3Mrr3I-xJG1s",
        "h7AYHaeVJG1y",
        "4WH76QW9JG1z",
        "NlH2VvAuJG11"
      ],
      "name": "project2.ipynb",
      "provenance": []
    },
    "kernelspec": {
      "display_name": "Python 3.7.8 64-bit",
      "language": "python",
      "name": "python3"
    },
    "language_info": {
      "codemirror_mode": {
        "name": "ipython",
        "version": 3
      },
      "file_extension": ".py",
      "mimetype": "text/x-python",
      "name": "python",
      "nbconvert_exporter": "python",
      "pygments_lexer": "ipython3",
      "version": "3.7.8"
    },
    "vscode": {
      "interpreter": {
        "hash": "0a54084e6b208ee8d1ce3989ffc20924477a5f55f5a43e22e699a6741623861e"
      }
    }
  },
  "nbformat": 4,
  "nbformat_minor": 0
}
