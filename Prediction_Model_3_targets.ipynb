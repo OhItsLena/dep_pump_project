{
  "cells": [
    {
      "cell_type": "markdown",
      "metadata": {
        "id": "DhW1RO3DJG05"
      },
      "source": [
        "# Data Exploration Project - Pumps"
      ]
    },
    {
      "cell_type": "markdown",
      "metadata": {
        "id": "3mqm_gVtJG1B"
      },
      "source": [
        "## Business Understanding\n",
        "\n",
        "Daten über verschiedene Brunnen in einem afrikanischen Land.\n",
        "\n",
        "**Können wir vorhersagen welche Brunnen defekt, wartungsbedürftig oder voll funktional sind?**"
      ]
    },
    {
      "cell_type": "markdown",
      "metadata": {
        "id": "s9QK4M6bJG1C"
      },
      "source": [
        "## Data Understanding"
      ]
    },
    {
      "cell_type": "code",
      "execution_count": 1,
      "metadata": {
        "colab": {
          "base_uri": "https://localhost:8080/"
        },
        "id": "ZxThrpAOJG1D",
        "outputId": "813156a8-80e8-4e76-b55b-7c5b99168ff9"
      },
      "outputs": [],
      "source": [
        "import pandas as pd\n",
        "import matplotlib.pyplot as plt \n",
        "import seaborn as sns\n",
        "import numpy as np\n",
        "from category_encoders import TargetEncoder, BinaryEncoder\n",
        "from sklearn.pipeline import Pipeline, make_pipeline\n",
        "from sklearn.preprocessing import OrdinalEncoder, LabelEncoder, StandardScaler, OneHotEncoder, MinMaxScaler\n",
        "from sklearn.impute import SimpleImputer\n",
        "from sklearn.compose import ColumnTransformer\n",
        "from sklearn.base import BaseEstimator, TransformerMixin\n",
        "from xgboost import XGBClassifier"
      ]
    },
    {
      "cell_type": "markdown",
      "metadata": {
        "id": "1rejyUeKJG1F"
      },
      "source": [
        "Einlesen der Trainings- und Testdaten."
      ]
    },
    {
      "cell_type": "code",
      "execution_count": 2,
      "metadata": {
        "id": "NWpTu_GUJG1H"
      },
      "outputs": [],
      "source": [
        "df_pump_train = pd.read_csv('pump_train.csv')\n",
        "df_pump_test = pd.read_csv('pump_test.csv')"
      ]
    },
    {
      "cell_type": "markdown",
      "metadata": {
        "id": "GYb79TGsJG1K"
      },
      "source": [
        "### Data Dictionary\n",
        "| Variable | Beschreibung |\n",
        "| -------- | ------------ |\n",
        "| amount_tsh | Total static head (amount water available to waterpoint) |\n",
        "| date_recorded | The date the row was entered |\n",
        "| funder | Who funded the well |\n",
        "| gps_height | Altitude of the well |\n",
        "| installer | Organization that installed the well |\n",
        "| longitude | GPS coordinate |\n",
        "| latitude | GPS coordinate |\n",
        "| wpt_name | Name of the waterpoint if there is one |\n",
        "| num_private | ? |\n",
        "| basin | Geographic water basin |\n",
        "| subvillage | Geographic location |\n",
        "| region | Geographic location |\n",
        "| region_code | Geographic location (coded) |\n",
        "| district_code | Geographic location (coded) |\n",
        "| lga | Geographic location |\n",
        "| ward | Geographic location |\n",
        "| population | Population around the well |\n",
        "| public_meeting | True/False |\n",
        "| recorded_by | Group entering this row of data \n",
        "| scheme_management | Who operates the waterpoint |\n",
        "| scheme_name | Who operates the waterpoint |\n",
        "| permit | If the waterpoint is permitted |\n",
        "| construction_year | Year the waterpoint was constructed \n",
        "| extraction_type | The kind of extraction the waterpoint uses \n",
        "| extraction_type_group | The kind of extraction the waterpoint uses |\n",
        "| extraction_type_class | The kind of extraction the waterpoint uses \n",
        "| management | How the waterpoint is managed |\n",
        "| management_group | How the waterpoint is managed |\n",
        "| payment | What the water costs |\n",
        "| payment_type | What the water costs |\n",
        "| water_quality | The quality of the water |\n",
        "| quality_group | The quality of the water |\n",
        "| quantity | The quantity of water |\n",
        "| quantity_group | The quantity of water |\n",
        "| source | The source of the water |\n",
        "| source_type | The source of the water |\n",
        "| source_class | The source of the water |\n",
        "| waterpoint_type | The kind of waterpoint |\n",
        "| waterpoint_type_group | The kind of waterpoint |\n",
        "| status_group | functional or non-functional or functional needs repair |"
      ]
    },
    {
      "cell_type": "markdown",
      "metadata": {
        "id": "vzPQZEd8JG1N"
      },
      "source": [
        "### Data Analysis"
      ]
    },
    {
      "cell_type": "markdown",
      "metadata": {
        "id": "8In45gg4JG1f"
      },
      "source": [
        "## Data Preparation"
      ]
    },
    {
      "cell_type": "markdown",
      "metadata": {
        "id": "NlH2VvAuJG11"
      },
      "source": [
        "## Pipeline"
      ]
    },
    {
      "cell_type": "markdown",
      "metadata": {
        "id": "EPAKPAhiJG11"
      },
      "source": [
        "[Categoric Encoder Package ->](https://contrib.scikit-learn.org/category_encoders/index.html)"
      ]
    },
    {
      "cell_type": "code",
      "execution_count": 3,
      "metadata": {},
      "outputs": [],
      "source": [
        "class YesNoEncoder(BaseEstimator, TransformerMixin):\n",
        "    def __init__(self, add_column = True):\n",
        "        self.add_column = add_column\n",
        "    \n",
        "    def fit(self, X, y=None):\n",
        "        return self\n",
        "    \n",
        "    def transform(self, X, y=None):\n",
        "        if self.add_column:\n",
        "            has_name = np.where(X['wpt_name']!= 'none', 1, 0)\n",
        "            Xcopy = X\n",
        "            Xcopy['wpt_name'] = has_name\n",
        "        return Xcopy"
      ]
    },
    {
      "cell_type": "code",
      "execution_count": 4,
      "metadata": {},
      "outputs": [],
      "source": [
        "class MyImputer(BaseEstimator, TransformerMixin):\n",
        "    def __init__(self, fill_value=\"other\"):\n",
        "        self.fill_value = fill_value\n",
        "        return None\n",
        "    \n",
        "    def fit(self, X, y=None):\n",
        "        return self\n",
        "    \n",
        "    def transform(self, X, y=None):\n",
        "        return np.array([self.fill_value if str(x)==str(np.nan) else x for x in X]).reshape(-1,1)"
      ]
    },
    {
      "cell_type": "code",
      "execution_count": 5,
      "metadata": {},
      "outputs": [],
      "source": [
        "scheme_pipeline = Pipeline([\n",
        "('imputer', MyImputer(fill_value=\"other\")),\n",
        "('one_hot', OneHotEncoder())\n",
        "])"
      ]
    },
    {
      "cell_type": "code",
      "execution_count": 6,
      "metadata": {},
      "outputs": [],
      "source": [
        "class YearAdder(BaseEstimator, TransformerMixin):\n",
        "    def __init__(self):\n",
        "        return None\n",
        "    \n",
        "    def fit(self, X, y=None):\n",
        "        return self\n",
        "    \n",
        "    def transform(self, X, y=None):\n",
        "        date_column = pd.Series(X)\n",
        "        return np.array(pd.DatetimeIndex(date_column).year).reshape(-1,1)\n",
        "        "
      ]
    },
    {
      "cell_type": "code",
      "execution_count": 7,
      "metadata": {},
      "outputs": [],
      "source": [
        "year_pipeline = Pipeline([\n",
        "    (\"add_year\", YearAdder()),\n",
        "    # (\"ord_enc\", OrdinalEncoder()),\n",
        "    (\"scale\", MinMaxScaler())\n",
        "])"
      ]
    },
    {
      "cell_type": "code",
      "execution_count": 8,
      "metadata": {},
      "outputs": [],
      "source": [
        "class AmountPerCapitaAdder(BaseEstimator, TransformerMixin):\n",
        "    def __init__(self):\n",
        "        return None\n",
        "    \n",
        "    def fit(self, X, y=None):\n",
        "        return self\n",
        "    \n",
        "    def transform(self, X, y=None):\n",
        "        date_column = pd.Series(X)\n",
        "        return np.array(pd.DatetimeIndex(date_column).year).reshape(-1,1)"
      ]
    },
    {
      "cell_type": "code",
      "execution_count": 9,
      "metadata": {
        "colab": {
          "base_uri": "https://localhost:8080/",
          "height": 947
        },
        "id": "uO_zmkM9JG11",
        "outputId": "c2aab073-68d9-41e7-fa7e-49605825c5cf"
      },
      "outputs": [
        {
          "name": "stderr",
          "output_type": "stream",
          "text": [
            "C:\\Users\\ti-he\\AppData\\Roaming\\Python\\Python37\\site-packages\\category_encoders\\target_encoder.py:94: FutureWarning: Default parameter min_samples_leaf will change in version 2.6.See https://github.com/scikit-learn-contrib/category_encoders/issues/327\n",
            "  category=FutureWarning)\n",
            "C:\\Users\\ti-he\\AppData\\Roaming\\Python\\Python37\\site-packages\\category_encoders\\target_encoder.py:99: FutureWarning: Default parameter smoothing will change in version 2.6.See https://github.com/scikit-learn-contrib/category_encoders/issues/327\n",
            "  category=FutureWarning)\n"
          ]
        }
      ],
      "source": [
        "df_train = df_pump_train.copy()\n",
        "\n",
        "# add new target variables\n",
        "\n",
        "df_train[\"t_functional\"] = df_train[\"status_group\"].apply(lambda x: 0 if x==\"non functional\" else 1)\n",
        "df_train[\"t_needs_rep\"] = df_train[\"status_group\"].apply(lambda x: 1 if x==\"functional needs repair\" else 0)\n",
        "\n",
        "# drop outliers\n",
        "df_train = df_train.drop(df_train[df_train.longitude == 0].index)\n",
        "\n",
        "# add new feature manually\n",
        "df_train[\"amount_per_capita\"] = df_train.apply(lambda x: x[\"amount_tsh\"]/x[\"population\"] if x[\"population\"] != 0 else 0, axis=1)\n",
        "\n",
        "# transform dtypes manually\n",
        "df_train[\"district_code\"] = df_train[\"district_code\"].astype(\"category\")\n",
        "df_train[\"region_code\"] = df_train[\"region_code\"].astype(\"category\")\n",
        "\n",
        "y_train = df_train.loc[:,'status_group']\n",
        "le = LabelEncoder()\n",
        "y_train = le.fit_transform(y_train)\n",
        "\n",
        "y_train_f = df_train[\"t_functional\"]\n",
        "y_train_r = df_train[\"t_needs_rep\"]\n",
        "\n",
        "col_imp = Pipeline([\n",
        "    ('simp_inputer', SimpleImputer(strategy='constant', fill_value='Unknown')),\n",
        "    ('target_enc', TargetEncoder()),\n",
        "    ('min_max', MinMaxScaler())\n",
        "])\n",
        "\n",
        "target_enc_pipe = Pipeline([\n",
        "    ('target_enc', TargetEncoder()),\n",
        "    ('min_max', MinMaxScaler())\n",
        "])\n",
        "\n",
        "col_trans = ColumnTransformer(transformers=[\n",
        "    ['col_imp', col_imp, ['funder', 'installer', 'subvillage']],\n",
        "    ['target_enc', target_enc_pipe, ['lga', 'ward', 'management']],\n",
        "    ['oh_enc', OneHotEncoder(), ['basin', 'payment','water_quality', 'quantity','source','waterpoint_type', 'extraction_type_class']],\n",
        "    ['bin_enc', BinaryEncoder(), ['region', 'region_code', 'district_code']], # warum alle 3 ?\n",
        "    ['cust_trans', YesNoEncoder(), ['wpt_name']],\n",
        "    [\"num\", MinMaxScaler(), [\"amount_tsh\", \"population\", \"amount_per_capita\", 'gps_height', 'longitude', 'latitude']],\n",
        "    [\"scheme\", scheme_pipeline, \"scheme_management\"],\n",
        "    [\"year\",  year_pipeline, \"date_recorded\"]\n",
        "], remainder='drop')"
      ]
    },
    {
      "cell_type": "code",
      "execution_count": 10,
      "metadata": {},
      "outputs": [
        {
          "name": "stderr",
          "output_type": "stream",
          "text": [
            "C:\\Users\\ti-he\\AppData\\Roaming\\Python\\Python37\\site-packages\\category_encoders\\target_encoder.py:94: FutureWarning: Default parameter min_samples_leaf will change in version 2.6.See https://github.com/scikit-learn-contrib/category_encoders/issues/327\n",
            "  category=FutureWarning)\n",
            "C:\\Users\\ti-he\\AppData\\Roaming\\Python\\Python37\\site-packages\\category_encoders\\target_encoder.py:99: FutureWarning: Default parameter smoothing will change in version 2.6.See https://github.com/scikit-learn-contrib/category_encoders/issues/327\n",
            "  category=FutureWarning)\n"
          ]
        }
      ],
      "source": [
        "X_train = col_trans.fit_transform(X=df_train, y=y_train)"
      ]
    },
    {
      "cell_type": "markdown",
      "metadata": {},
      "source": [
        "## Modeling"
      ]
    },
    {
      "cell_type": "markdown",
      "metadata": {},
      "source": [
        "ToDo: Test with different Preparation-Pipelines"
      ]
    },
    {
      "cell_type": "markdown",
      "metadata": {},
      "source": [
        "### a. Model Selection"
      ]
    },
    {
      "cell_type": "code",
      "execution_count": 11,
      "metadata": {},
      "outputs": [],
      "source": [
        "df_results = pd.DataFrame(data=[], columns=[\"Model\", \"AUC Train\", \"AUC CV\"])"
      ]
    },
    {
      "cell_type": "markdown",
      "metadata": {},
      "source": [
        "#### LogisticRegression"
      ]
    },
    {
      "cell_type": "code",
      "execution_count": 12,
      "metadata": {},
      "outputs": [],
      "source": [
        "from sklearn.linear_model import LogisticRegression\n",
        "from sklearn.metrics import roc_auc_score\n",
        "from sklearn.model_selection import cross_validate\n",
        "\n",
        "lr_cf = LogisticRegression(multi_class=\"ovr\", max_iter=1000)\n",
        "lr_cf.fit(X_train, y_train)\n",
        "y_pred = lr_cf.predict_proba(X_train)\n",
        "auc_train = roc_auc_score(y_train, y_pred, multi_class='ovr')\n",
        "cv_res = cross_validate(estimator=lr_cf, X=X_train, y=y_train, cv=5, scoring='roc_auc_ovr')\n",
        "auc_cv = cv_res[\"test_score\"].mean()"
      ]
    },
    {
      "cell_type": "code",
      "execution_count": 13,
      "metadata": {},
      "outputs": [],
      "source": [
        "df_results.loc[len(df_results)] = [lr_cf, auc_train, auc_cv]"
      ]
    },
    {
      "cell_type": "markdown",
      "metadata": {},
      "source": [
        "#### SVM"
      ]
    },
    {
      "cell_type": "code",
      "execution_count": 14,
      "metadata": {},
      "outputs": [],
      "source": [
        "from sklearn.svm import SVC\n",
        "\n",
        "svm_cf = SVC(probability=True, decision_function_shape=\"ovr\")\n",
        "svm_cf.fit(X_train, y_train)\n",
        "y_pred = svm_cf.predict_proba(X_train)\n",
        "auc_train = roc_auc_score(y_train, y_pred, multi_class='ovr')\n",
        "cv_res = cross_validate(estimator=svm_cf, X=X_train, y=y_train, cv=5, scoring='roc_auc_ovr', n_jobs=-1)\n",
        "auc_cv = cv_res[\"test_score\"].mean()\n",
        "df_results.loc[len(df_results)] = [svm_cf, auc_train, auc_cv]\n",
        "df_results.loc[len(df_results)] = [\"SVC\", 0, 0]"
      ]
    },
    {
      "cell_type": "markdown",
      "metadata": {},
      "source": [
        "#### KNN"
      ]
    },
    {
      "cell_type": "code",
      "execution_count": 15,
      "metadata": {},
      "outputs": [],
      "source": [
        "from sklearn.neighbors import KNeighborsClassifier\n",
        "\n",
        "knn_cf = KNeighborsClassifier()\n",
        "knn_cf.fit(X_train, y_train)\n",
        "y_pred = knn_cf.predict_proba(X_train)\n",
        "auc_train = roc_auc_score(y_train, y_pred, multi_class='ovr')\n",
        "cv_res = cross_validate(estimator=knn_cf, X=X_train, y=y_train, cv=5, scoring='roc_auc_ovr')\n",
        "auc_cv = cv_res[\"test_score\"].mean()\n",
        "df_results.loc[len(df_results)] = [knn_cf, auc_train, auc_cv]"
      ]
    },
    {
      "cell_type": "markdown",
      "metadata": {},
      "source": [
        "#### Decision Tree"
      ]
    },
    {
      "cell_type": "code",
      "execution_count": 16,
      "metadata": {},
      "outputs": [],
      "source": [
        "from sklearn.tree import DecisionTreeClassifier\n",
        "\n",
        "dt_cf = DecisionTreeClassifier()\n",
        "dt_cf.fit(X_train, y_train)\n",
        "y_pred = dt_cf.predict_proba(X_train)\n",
        "auc_train = roc_auc_score(y_train, y_pred, multi_class='ovr')\n",
        "cv_res = cross_validate(estimator=dt_cf, X=X_train, y=y_train, cv=5, scoring='roc_auc_ovr')\n",
        "auc_cv = cv_res[\"test_score\"].mean()\n",
        "df_results.loc[len(df_results)] = [dt_cf, auc_train, auc_cv]"
      ]
    },
    {
      "cell_type": "markdown",
      "metadata": {},
      "source": [
        "#### Random Forest"
      ]
    },
    {
      "cell_type": "code",
      "execution_count": 17,
      "metadata": {},
      "outputs": [],
      "source": [
        "from sklearn.ensemble import RandomForestClassifier\n",
        "\n",
        "rf_cf = RandomForestClassifier(random_state=42)\n",
        "rf_cf.fit(X_train, y_train)\n",
        "y_pred = rf_cf.predict_proba(X_train)\n",
        "auc_train = roc_auc_score(y_train, y_pred, multi_class='ovr')\n",
        "cv_res = cross_validate(estimator=rf_cf, X=X_train, y=y_train, cv=5, scoring='roc_auc_ovr')\n",
        "auc_cv = cv_res[\"test_score\"].mean()\n",
        "df_results.loc[len(df_results)] = [str(rf_cf), auc_train, auc_cv]"
      ]
    },
    {
      "cell_type": "markdown",
      "metadata": {},
      "source": [
        "#### XGBoost"
      ]
    },
    {
      "cell_type": "code",
      "execution_count": 18,
      "metadata": {},
      "outputs": [],
      "source": [
        "from xgboost import XGBClassifier\n",
        "\n",
        "xgb_cf = XGBClassifier()\n",
        "xgb_cf.fit(X_train, y_train)\n",
        "y_pred = xgb_cf.predict_proba(X_train)\n",
        "auc_train = roc_auc_score(y_train, y_pred, multi_class='ovr')\n",
        "cv_res = cross_validate(estimator=xgb_cf, X=X_train, y=y_train, cv=5, scoring='roc_auc_ovr')\n",
        "auc_cv = cv_res[\"test_score\"].mean()\n",
        "df_results.loc[len(df_results)] = [xgb_cf, auc_train, auc_cv]"
      ]
    },
    {
      "cell_type": "code",
      "execution_count": 19,
      "metadata": {},
      "outputs": [
        {
          "data": {
            "text/html": [
              "<div>\n",
              "<style scoped>\n",
              "    .dataframe tbody tr th:only-of-type {\n",
              "        vertical-align: middle;\n",
              "    }\n",
              "\n",
              "    .dataframe tbody tr th {\n",
              "        vertical-align: top;\n",
              "    }\n",
              "\n",
              "    .dataframe thead th {\n",
              "        text-align: right;\n",
              "    }\n",
              "</style>\n",
              "<table border=\"1\" class=\"dataframe\">\n",
              "  <thead>\n",
              "    <tr style=\"text-align: right;\">\n",
              "      <th></th>\n",
              "      <th>Model</th>\n",
              "      <th>AUC Train</th>\n",
              "      <th>AUC CV</th>\n",
              "    </tr>\n",
              "  </thead>\n",
              "  <tbody>\n",
              "    <tr>\n",
              "      <th>0</th>\n",
              "      <td>LogisticRegression(max_iter=1000, multi_class=...</td>\n",
              "      <td>0.869001</td>\n",
              "      <td>0.866267</td>\n",
              "    </tr>\n",
              "    <tr>\n",
              "      <th>1</th>\n",
              "      <td>SVC(probability=True)</td>\n",
              "      <td>0.912153</td>\n",
              "      <td>0.893115</td>\n",
              "    </tr>\n",
              "    <tr>\n",
              "      <th>2</th>\n",
              "      <td>SVC</td>\n",
              "      <td>0.000000</td>\n",
              "      <td>0.000000</td>\n",
              "    </tr>\n",
              "    <tr>\n",
              "      <th>3</th>\n",
              "      <td>KNeighborsClassifier()</td>\n",
              "      <td>0.957829</td>\n",
              "      <td>0.855479</td>\n",
              "    </tr>\n",
              "    <tr>\n",
              "      <th>4</th>\n",
              "      <td>DecisionTreeClassifier()</td>\n",
              "      <td>1.000000</td>\n",
              "      <td>0.750551</td>\n",
              "    </tr>\n",
              "    <tr>\n",
              "      <th>5</th>\n",
              "      <td>RandomForestClassifier(random_state=42)</td>\n",
              "      <td>1.000000</td>\n",
              "      <td>0.902239</td>\n",
              "    </tr>\n",
              "    <tr>\n",
              "      <th>6</th>\n",
              "      <td>XGBClassifier(base_score=0.5, booster='gbtree'...</td>\n",
              "      <td>0.964362</td>\n",
              "      <td>0.925640</td>\n",
              "    </tr>\n",
              "  </tbody>\n",
              "</table>\n",
              "</div>"
            ],
            "text/plain": [
              "                                               Model  AUC Train    AUC CV\n",
              "0  LogisticRegression(max_iter=1000, multi_class=...   0.869001  0.866267\n",
              "1                              SVC(probability=True)   0.912153  0.893115\n",
              "2                                                SVC   0.000000  0.000000\n",
              "3                             KNeighborsClassifier()   0.957829  0.855479\n",
              "4                           DecisionTreeClassifier()   1.000000  0.750551\n",
              "5            RandomForestClassifier(random_state=42)   1.000000  0.902239\n",
              "6  XGBClassifier(base_score=0.5, booster='gbtree'...   0.964362  0.925640"
            ]
          },
          "execution_count": 19,
          "metadata": {},
          "output_type": "execute_result"
        }
      ],
      "source": [
        "# df_results.to_csv(\"pm3_sel_results.csv\")\n",
        "df_results"
      ]
    },
    {
      "cell_type": "code",
      "execution_count": 20,
      "metadata": {},
      "outputs": [
        {
          "data": {
            "text/plain": [
              "<AxesSubplot:>"
            ]
          },
          "execution_count": 20,
          "metadata": {},
          "output_type": "execute_result"
        },
        {
          "data": {
            "image/png": "[encoded data removed]",
            "text/plain": [
              "<Figure size 432x288 with 1 Axes>"
            ]
          },
          "metadata": {
            "needs_background": "light"
          },
          "output_type": "display_data"
        }
      ],
      "source": [
        "pd.Series(xgb_cf.predict(X_train)).value_counts().plot.bar()"
      ]
    },
    {
      "cell_type": "markdown",
      "metadata": {},
      "source": [
        "### b. Hyperparameter Tuning\n",
        "\n",
        "Gewählte Modelle:\n",
        "- RandomForest\n",
        "- XGBoost \\\n",
        "--> Bester CV-Score, trotzdem noch Overfitting, viele Hyperparameter zum Anpassen --> Ideal für Hyperparameter Tuning"
      ]
    },
    {
      "cell_type": "code",
      "execution_count": 21,
      "metadata": {},
      "outputs": [],
      "source": [
        "df_tuned = pd.DataFrame(data=[], columns=[\"Model\", \"AUC Train\", \"AUC CV\"])"
      ]
    },
    {
      "cell_type": "markdown",
      "metadata": {},
      "source": [
        "#### Random Forest"
      ]
    },
    {
      "cell_type": "code",
      "execution_count": 22,
      "metadata": {},
      "outputs": [
        {
          "data": {
            "text/plain": [
              "{'n_estimators': 400, 'max_depth': 16}"
            ]
          },
          "execution_count": 22,
          "metadata": {},
          "output_type": "execute_result"
        }
      ],
      "source": [
        "from sklearn.model_selection import GridSearchCV, RandomizedSearchCV\n",
        "\n",
        "rf_cf = RandomForestClassifier(random_state=42)\n",
        "\n",
        "model_params = {\n",
        "    'n_estimators': np.linspace(10,500,50,dtype=int),\n",
        "    'max_depth': np.linspace(2,30,15,dtype=int),\n",
        "}\n",
        "\n",
        "rs = RandomizedSearchCV(rf_cf, model_params, n_iter=20, scoring=\"roc_auc_ovr\", cv=5, n_jobs=-1)\n",
        "rs.fit(X_train, y_train)\n",
        "rs.best_params_"
      ]
    },
    {
      "cell_type": "code",
      "execution_count": 23,
      "metadata": {},
      "outputs": [
        {
          "name": "stdout",
          "output_type": "stream",
          "text": [
            "0.9159432168280753\n",
            "{'max_depth': 18, 'n_estimators': 400}\n"
          ]
        }
      ],
      "source": [
        "param_grid = [{\n",
        "    \"n_estimators\":[300, 350, 400],\n",
        "    \"max_depth\": [16, 18, 20],\n",
        "    #\"bootstrap\": [True, False]\n",
        "}]\n",
        "\n",
        "rf_cf_opt = RandomForestClassifier(random_state=42)\n",
        "gs = GridSearchCV(rf_cf_opt, param_grid=param_grid, scoring=\"roc_auc_ovr\", cv=5, n_jobs=-1)\n",
        "gs.fit(X_train, y_train)\n",
        "print(gs.best_score_)\n",
        "print(gs.best_params_)"
      ]
    },
    {
      "cell_type": "code",
      "execution_count": 24,
      "metadata": {},
      "outputs": [
        {
          "data": {
            "text/html": [
              "<div>\n",
              "<style scoped>\n",
              "    .dataframe tbody tr th:only-of-type {\n",
              "        vertical-align: middle;\n",
              "    }\n",
              "\n",
              "    .dataframe tbody tr th {\n",
              "        vertical-align: top;\n",
              "    }\n",
              "\n",
              "    .dataframe thead th {\n",
              "        text-align: right;\n",
              "    }\n",
              "</style>\n",
              "<table border=\"1\" class=\"dataframe\">\n",
              "  <thead>\n",
              "    <tr style=\"text-align: right;\">\n",
              "      <th></th>\n",
              "      <th>param_max_depth</th>\n",
              "      <th>param_n_estimators</th>\n",
              "      <th>mean_test_score</th>\n",
              "      <th>rank_test_score</th>\n",
              "    </tr>\n",
              "  </thead>\n",
              "  <tbody>\n",
              "    <tr>\n",
              "      <th>0</th>\n",
              "      <td>16</td>\n",
              "      <td>300</td>\n",
              "      <td>0.915558</td>\n",
              "      <td>6</td>\n",
              "    </tr>\n",
              "    <tr>\n",
              "      <th>1</th>\n",
              "      <td>16</td>\n",
              "      <td>350</td>\n",
              "      <td>0.915649</td>\n",
              "      <td>5</td>\n",
              "    </tr>\n",
              "    <tr>\n",
              "      <th>2</th>\n",
              "      <td>16</td>\n",
              "      <td>400</td>\n",
              "      <td>0.915800</td>\n",
              "      <td>3</td>\n",
              "    </tr>\n",
              "    <tr>\n",
              "      <th>3</th>\n",
              "      <td>18</td>\n",
              "      <td>300</td>\n",
              "      <td>0.915744</td>\n",
              "      <td>4</td>\n",
              "    </tr>\n",
              "    <tr>\n",
              "      <th>4</th>\n",
              "      <td>18</td>\n",
              "      <td>350</td>\n",
              "      <td>0.915837</td>\n",
              "      <td>2</td>\n",
              "    </tr>\n",
              "    <tr>\n",
              "      <th>5</th>\n",
              "      <td>18</td>\n",
              "      <td>400</td>\n",
              "      <td>0.915943</td>\n",
              "      <td>1</td>\n",
              "    </tr>\n",
              "    <tr>\n",
              "      <th>6</th>\n",
              "      <td>20</td>\n",
              "      <td>300</td>\n",
              "      <td>0.914980</td>\n",
              "      <td>9</td>\n",
              "    </tr>\n",
              "    <tr>\n",
              "      <th>7</th>\n",
              "      <td>20</td>\n",
              "      <td>350</td>\n",
              "      <td>0.915065</td>\n",
              "      <td>8</td>\n",
              "    </tr>\n",
              "    <tr>\n",
              "      <th>8</th>\n",
              "      <td>20</td>\n",
              "      <td>400</td>\n",
              "      <td>0.915187</td>\n",
              "      <td>7</td>\n",
              "    </tr>\n",
              "  </tbody>\n",
              "</table>\n",
              "</div>"
            ],
            "text/plain": [
              "  param_max_depth param_n_estimators  mean_test_score  rank_test_score\n",
              "0              16                300         0.915558                6\n",
              "1              16                350         0.915649                5\n",
              "2              16                400         0.915800                3\n",
              "3              18                300         0.915744                4\n",
              "4              18                350         0.915837                2\n",
              "5              18                400         0.915943                1\n",
              "6              20                300         0.914980                9\n",
              "7              20                350         0.915065                8\n",
              "8              20                400         0.915187                7"
            ]
          },
          "metadata": {},
          "output_type": "display_data"
        }
      ],
      "source": [
        "display(pd.DataFrame(gs.cv_results_)[[\"param_max_depth\", \"param_n_estimators\", \"mean_test_score\", \"rank_test_score\"]])"
      ]
    },
    {
      "cell_type": "code",
      "execution_count": 25,
      "metadata": {},
      "outputs": [],
      "source": [
        "rf_cf_opt = gs.best_estimator_\n",
        "\n",
        "rf_cf_opt.fit(X_train, y_train)\n",
        "y_pred = rf_cf_opt.predict_proba(X_train)\n",
        "\n",
        "auc_train = roc_auc_score(y_train, y_pred, multi_class='ovr')\n",
        "cv_res = cross_validate(estimator=rf_cf_opt, X=X_train, y=y_train, cv=5, scoring='roc_auc_ovr')\n",
        "auc_cv = cv_res[\"test_score\"].mean()\n",
        "\n",
        "df_tuned.loc[len(df_tuned)] = [str(rf_cf_opt), auc_train, auc_cv]"
      ]
    },
    {
      "cell_type": "markdown",
      "metadata": {},
      "source": [
        "#### XGBoost"
      ]
    },
    {
      "cell_type": "code",
      "execution_count": 26,
      "metadata": {},
      "outputs": [
        {
          "data": {
            "text/plain": [
              "{'n_estimators': 49, 'max_depth': 8, 'learning_rate': 0.4}"
            ]
          },
          "execution_count": 26,
          "metadata": {},
          "output_type": "execute_result"
        }
      ],
      "source": [
        "from sklearn.model_selection import GridSearchCV, RandomizedSearchCV\n",
        "xgb_cf = XGBClassifier()\n",
        "\n",
        "model_params = {\n",
        "    'n_estimators': np.linspace(10,400,50,dtype=int),\n",
        "    'max_depth': np.linspace(2,30,15,dtype=int),\n",
        "    'learning_rate': np.linspace(0.1,1,10)\n",
        "}\n",
        "\n",
        "rs = RandomizedSearchCV(xgb_cf, model_params, n_iter=15, scoring=\"roc_auc_ovr\", cv=5, n_jobs=-1)\n",
        "rs.fit(X_train, y_train)\n",
        "rs.best_params_"
      ]
    },
    {
      "cell_type": "code",
      "execution_count": 31,
      "metadata": {},
      "outputs": [
        {
          "data": {
            "text/plain": [
              "{'learning_rate': 0.5, 'max_depth': 6, 'n_estimators': 100}"
            ]
          },
          "execution_count": 31,
          "metadata": {},
          "output_type": "execute_result"
        }
      ],
      "source": [
        "param_grid = [{\n",
        "    \"n_estimators\":[25, 50, 100],\n",
        "    \"max_depth\": [6, 8, 10],\n",
        "    \"learning_rate\": [0.1, 0.5]\n",
        "}]\n",
        "\n",
        "xgb_cf = XGBClassifier()\n",
        "gs = GridSearchCV(xgb_cf, param_grid=param_grid, scoring=\"roc_auc_ovr\", cv=5, n_jobs=-1)\n",
        "gs.fit(X_train, y_train)\n",
        "gs.best_params_"
      ]
    },
    {
      "cell_type": "code",
      "execution_count": 32,
      "metadata": {},
      "outputs": [],
      "source": [
        "xgb_cf_opt = gs.best_estimator_\n",
        "\n",
        "xgb_cf_opt.fit(X_train, y_train)\n",
        "y_pred = xgb_cf_opt.predict_proba(X_train)\n",
        "\n",
        "auc_train = roc_auc_score(y_train, y_pred, multi_class='ovr')\n",
        "cv_res = cross_validate(estimator=xgb_cf_opt, X=X_train, y=y_train, cv=5, scoring='roc_auc_ovr')\n",
        "auc_cv = cv_res[\"test_score\"].mean()\n",
        "\n",
        "df_tuned.loc[len(df_tuned)] = [str(xgb_cf_opt), auc_train, auc_cv]"
      ]
    },
    {
      "cell_type": "code",
      "execution_count": 33,
      "metadata": {},
      "outputs": [
        {
          "data": {
            "text/html": [
              "<div>\n",
              "<style scoped>\n",
              "    .dataframe tbody tr th:only-of-type {\n",
              "        vertical-align: middle;\n",
              "    }\n",
              "\n",
              "    .dataframe tbody tr th {\n",
              "        vertical-align: top;\n",
              "    }\n",
              "\n",
              "    .dataframe thead th {\n",
              "        text-align: right;\n",
              "    }\n",
              "</style>\n",
              "<table border=\"1\" class=\"dataframe\">\n",
              "  <thead>\n",
              "    <tr style=\"text-align: right;\">\n",
              "      <th></th>\n",
              "      <th>Model</th>\n",
              "      <th>AUC Train</th>\n",
              "      <th>AUC CV</th>\n",
              "    </tr>\n",
              "  </thead>\n",
              "  <tbody>\n",
              "    <tr>\n",
              "      <th>0</th>\n",
              "      <td>RandomForestClassifier(max_depth=18, n_estimat...</td>\n",
              "      <td>0.992316</td>\n",
              "      <td>0.915943</td>\n",
              "    </tr>\n",
              "    <tr>\n",
              "      <th>1</th>\n",
              "      <td>XGBClassifier(base_score=0.5, booster='gbtree'...</td>\n",
              "      <td>0.987123</td>\n",
              "      <td>0.925518</td>\n",
              "    </tr>\n",
              "    <tr>\n",
              "      <th>2</th>\n",
              "      <td>XGBClassifier(base_score=0.5, booster='gbtree'...</td>\n",
              "      <td>0.976437</td>\n",
              "      <td>0.924926</td>\n",
              "    </tr>\n",
              "  </tbody>\n",
              "</table>\n",
              "</div>"
            ],
            "text/plain": [
              "                                               Model  AUC Train    AUC CV\n",
              "0  RandomForestClassifier(max_depth=18, n_estimat...   0.992316  0.915943\n",
              "1  XGBClassifier(base_score=0.5, booster='gbtree'...   0.987123  0.925518\n",
              "2  XGBClassifier(base_score=0.5, booster='gbtree'...   0.976437  0.924926"
            ]
          },
          "execution_count": 33,
          "metadata": {},
          "output_type": "execute_result"
        }
      ],
      "source": [
        "# df_tuned.to_csv(\"pm3_tuned.csv\")\n",
        "df_tuned"
      ]
    },
    {
      "cell_type": "markdown",
      "metadata": {},
      "source": [
        "### c. Dimensionality Reduction"
      ]
    },
    {
      "cell_type": "code",
      "execution_count": null,
      "metadata": {},
      "outputs": [
        {
          "data": {
            "image/png": "[encoded data removed]",
            "text/plain": [
              "<Figure size 432x288 with 1 Axes>"
            ]
          },
          "metadata": {
            "needs_background": "light"
          },
          "output_type": "display_data"
        }
      ],
      "source": [
        "from sklearn.decomposition import PCA\n",
        "\n",
        "pca_pl = PCA(n_components=len(X_train.T))\n",
        "pca_pl.fit(X_train)\n",
        "\n",
        "\n",
        "plt.plot(np.arange(pca_pl.n_components_) + 1, np.cumsum(pca_pl.explained_variance_ratio_), linewidth=1, color='red')\n",
        "plt.title('Elbow Plot')\n",
        "plt.xlabel('Principal Components')\n",
        "plt.ylabel('Explained Variance Ratio')\n",
        "plt.hlines(0.95, -1, 100, linestyle=\"--\", linewidth=1, color=\"grey\")\n",
        "plt.vlines(40, 0, 1.1, linestyle=\"--\", linewidth=1, color=\"grey\")\n",
        "plt.xlim(0,96)\n",
        "plt.ylim(0,1.1)\n",
        "plt.show()\n"
      ]
    },
    {
      "cell_type": "code",
      "execution_count": null,
      "metadata": {},
      "outputs": [],
      "source": [
        "pca = PCA(n_components=40)\n",
        "pca.fit(X_train)\n",
        "X_train_ = pca.transform(X_train)"
      ]
    },
    {
      "cell_type": "code",
      "execution_count": null,
      "metadata": {},
      "outputs": [
        {
          "name": "stdout",
          "output_type": "stream",
          "text": [
            "0.9999999994262022, 0.8755975571410126\n"
          ]
        }
      ],
      "source": [
        "rf_cf = RandomForestClassifier(random_state=42)\n",
        "rf_cf.fit(X_train_, y_train)\n",
        "y_pred = rf_cf.predict_proba(X_train_)\n",
        "auc_train = roc_auc_score(y_train, y_pred, multi_class='ovr')\n",
        "cv_res = cross_validate(estimator=rf_cf, X=X_train_, y=y_train, cv=5, scoring='roc_auc_ovr')\n",
        "auc_cv = cv_res[\"test_score\"].mean()\n",
        "print(f\"{auc_train}, {auc_cv}\")"
      ]
    },
    {
      "cell_type": "code",
      "execution_count": null,
      "metadata": {},
      "outputs": [
        {
          "name": "stdout",
          "output_type": "stream",
          "text": [
            "0.9691582243378876, 0.9040651574737595\n"
          ]
        }
      ],
      "source": [
        "from xgboost import XGBClassifier\n",
        "\n",
        "xgb_cf = XGBClassifier()\n",
        "xgb_cf.fit(X_train_, y_train)\n",
        "y_pred = xgb_cf.predict_proba(X_train_)\n",
        "auc_train = roc_auc_score(y_train, y_pred, multi_class='ovr')\n",
        "cv_res = cross_validate(estimator=xgb_cf, X=X_train_, y=y_train, cv=5, scoring='roc_auc_ovr')\n",
        "auc_cv = cv_res[\"test_score\"].mean()\n",
        "print(f\"{auc_train}, {auc_cv}\")"
      ]
    },
    {
      "cell_type": "markdown",
      "metadata": {},
      "source": [
        "#### d. Treating Imbalances"
      ]
    },
    {
      "cell_type": "code",
      "execution_count": null,
      "metadata": {},
      "outputs": [],
      "source": [
        "from sklearn.utils import class_weight\n",
        "classes_weights = list(class_weight.compute_class_weight('balanced', classes=np.unique(y_train), y=y_train))\n",
        "\n",
        "weights = np.ones(y_train.shape[0], dtype='float')\n",
        "\n",
        "for i, val in enumerate(y_train):\n",
        "    weights[i] = classes_weights[val-1]\n",
        "\n",
        "xgb_cf_w = XGBClassifier()\n",
        "xgb_cf_w.fit(X_train, y_train, sample_weight=weights);"
      ]
    },
    {
      "cell_type": "code",
      "execution_count": null,
      "metadata": {},
      "outputs": [
        {
          "name": "stdout",
          "output_type": "stream",
          "text": [
            "0.9594796427886951, 0.9256401412787248\n"
          ]
        }
      ],
      "source": [
        "y_pred = xgb_cf_w.predict_proba(X_train)\n",
        "auc_train = roc_auc_score(y_train, y_pred, multi_class='ovr')\n",
        "cv_res = cross_validate(estimator=xgb_cf_w, X=X_train, y=y_train, cv=5, scoring='roc_auc_ovr')\n",
        "auc_cv = cv_res[\"test_score\"].mean()\n",
        "print(f\"{auc_train}, {auc_cv}\")"
      ]
    },
    {
      "cell_type": "code",
      "execution_count": null,
      "metadata": {},
      "outputs": [
        {
          "name": "stdout",
          "output_type": "stream",
          "text": [
            "              precision    recall  f1-score   support\n",
            "\n",
            "           0       0.94      0.72      0.82     26698\n",
            "           1       0.88      0.22      0.36      3356\n",
            "           2       0.68      0.98      0.80     18904\n",
            "\n",
            "    accuracy                           0.79     48958\n",
            "   macro avg       0.83      0.64      0.66     48958\n",
            "weighted avg       0.83      0.79      0.78     48958\n",
            "\n"
          ]
        }
      ],
      "source": [
        "from sklearn.metrics import classification_report\n",
        "print(classification_report(y_train, xgb_cf_w.predict(X_train)))"
      ]
    },
    {
      "cell_type": "code",
      "execution_count": null,
      "metadata": {},
      "outputs": [
        {
          "name": "stdout",
          "output_type": "stream",
          "text": [
            "0.9999999997066454, 0.9022388708551381\n"
          ]
        }
      ],
      "source": [
        "rf_cf_w = RandomForestClassifier(random_state=42)\n",
        "rf_cf_w.fit(X_train, y_train, sample_weight=weights)\n",
        "y_pred = rf_cf_w.predict_proba(X_train)\n",
        "auc_train = roc_auc_score(y_train, y_pred, multi_class='ovr')\n",
        "cv_res = cross_validate(estimator=rf_cf_w, X=X_train, y=y_train, cv=5, scoring='roc_auc_ovr')\n",
        "auc_cv = cv_res[\"test_score\"].mean()\n",
        "print(f\"{auc_train}, {auc_cv}\")"
      ]
    },
    {
      "cell_type": "markdown",
      "metadata": {},
      "source": [
        "## Evaluation"
      ]
    },
    {
      "cell_type": "markdown",
      "metadata": {},
      "source": [
        "With unseen test data (out-of-sample validation)"
      ]
    },
    {
      "cell_type": "code",
      "execution_count": 34,
      "metadata": {},
      "outputs": [],
      "source": [
        "df_pump_test = pd.read_csv(\"pump_test.csv\")\n",
        "\n",
        "df_test = df_pump_test.copy()\n",
        "\n",
        "df_test[\"t_functional\"] = df_test[\"status_group\"].apply(lambda x: 0 if x==\"non functional\" else 1)\n",
        "df_test[\"t_needs_rep\"] = df_test[\"status_group\"].apply(lambda x: 1 if x==\"functional needs repair\" else 0)\n",
        "\n",
        "df_test = df_test.drop(df_test[df_test.longitude == 0].index)\n",
        "\n",
        "df_test[\"amount_per_capita\"] = df_test.apply(lambda x: x[\"amount_tsh\"]/x[\"population\"] if x[\"population\"] != 0 else 0, axis=1)\n",
        "\n",
        "df_test[\"district_code\"] = df_test[\"district_code\"].astype(\"category\")\n",
        "df_test[\"region_code\"] = df_test[\"region_code\"].astype(\"category\")\n",
        "\n",
        "y_test = df_test.loc[:,'status_group']\n",
        "y_test = le.transform(y_test)\n",
        "\n",
        "y_test_f = df_test[\"t_functional\"]\n",
        "y_test_r = df_test[\"t_needs_rep\"]"
      ]
    },
    {
      "cell_type": "code",
      "execution_count": 35,
      "metadata": {},
      "outputs": [],
      "source": [
        "X_test = col_trans.transform(X=df_test)"
      ]
    },
    {
      "cell_type": "code",
      "execution_count": 36,
      "metadata": {},
      "outputs": [],
      "source": [
        "auc_test_rf = roc_auc_score(y_test, rf_cf_opt.predict_proba(X_test), multi_class='ovr')\n",
        "auc_test_xgb = roc_auc_score(y_test, xgb_cf_opt.predict_proba(X_test), multi_class='ovr')"
      ]
    },
    {
      "cell_type": "code",
      "execution_count": 39,
      "metadata": {},
      "outputs": [
        {
          "data": {
            "text/html": [
              "<div>\n",
              "<style scoped>\n",
              "    .dataframe tbody tr th:only-of-type {\n",
              "        vertical-align: middle;\n",
              "    }\n",
              "\n",
              "    .dataframe tbody tr th {\n",
              "        vertical-align: top;\n",
              "    }\n",
              "\n",
              "    .dataframe thead th {\n",
              "        text-align: right;\n",
              "    }\n",
              "</style>\n",
              "<table border=\"1\" class=\"dataframe\">\n",
              "  <thead>\n",
              "    <tr style=\"text-align: right;\">\n",
              "      <th></th>\n",
              "      <th>Model</th>\n",
              "      <th>AUC Train</th>\n",
              "      <th>AUC CV</th>\n",
              "      <th>AUC Test</th>\n",
              "    </tr>\n",
              "  </thead>\n",
              "  <tbody>\n",
              "    <tr>\n",
              "      <th>0</th>\n",
              "      <td>RandomForestClassifier(max_depth=18, n_estimat...</td>\n",
              "      <td>0.992316</td>\n",
              "      <td>0.915943</td>\n",
              "      <td>0.898758</td>\n",
              "    </tr>\n",
              "    <tr>\n",
              "      <th>1</th>\n",
              "      <td>XGBClassifier(base_score=0.5, booster='gbtree'...</td>\n",
              "      <td>0.987123</td>\n",
              "      <td>0.925518</td>\n",
              "      <td>NaN</td>\n",
              "    </tr>\n",
              "    <tr>\n",
              "      <th>2</th>\n",
              "      <td>XGBClassifier(base_score=0.5, booster='gbtree'...</td>\n",
              "      <td>0.976437</td>\n",
              "      <td>0.924926</td>\n",
              "      <td>0.859576</td>\n",
              "    </tr>\n",
              "  </tbody>\n",
              "</table>\n",
              "</div>"
            ],
            "text/plain": [
              "                                               Model  AUC Train    AUC CV  \\\n",
              "0  RandomForestClassifier(max_depth=18, n_estimat...   0.992316  0.915943   \n",
              "1  XGBClassifier(base_score=0.5, booster='gbtree'...   0.987123  0.925518   \n",
              "2  XGBClassifier(base_score=0.5, booster='gbtree'...   0.976437  0.924926   \n",
              "\n",
              "   AUC Test  \n",
              "0  0.898758  \n",
              "1       NaN  \n",
              "2  0.859576  "
            ]
          },
          "execution_count": 39,
          "metadata": {},
          "output_type": "execute_result"
        }
      ],
      "source": [
        "df_tuned[\"AUC Test\"] = [auc_test_rf, np.nan, auc_test_xgb]\n",
        "df_tuned"
      ]
    },
    {
      "cell_type": "code",
      "execution_count": 40,
      "metadata": {},
      "outputs": [],
      "source": [
        "from yellowbrick.classifier import ROCAUC\n",
        "\n",
        "def plot_ROC_AUC(model, X_train, y_train, X_test, y_test):\n",
        "\n",
        "    vis = ROCAUC(model, encoder={0: 'functional', 1: ' func_needs_rep', 2: 'non_functional'})\n",
        "                                                                         \n",
        "    vis.fit(X_train, y_train)\n",
        "    vis.score(X_test, y_test)\n",
        "    vis.show()\n",
        "    \n",
        "    return vis"
      ]
    },
    {
      "cell_type": "code",
      "execution_count": 42,
      "metadata": {},
      "outputs": [
        {
          "data": {
            "image/png": "[encoded data removed]",
            "text/plain": [
              "<Figure size 576x396 with 1 Axes>"
            ]
          },
          "metadata": {},
          "output_type": "display_data"
        },
        {
          "data": {
            "image/png": "[encoded data removed]",
            "text/plain": [
              "<Figure size 576x396 with 1 Axes>"
            ]
          },
          "metadata": {},
          "output_type": "display_data"
        },
        {
          "data": {
            "text/plain": [
              "ROCAUC(ax=<AxesSubplot:title={'center':'ROC Curves for XGBClassifier'}, xlabel='False Positive Rate', ylabel='True Positive Rate'>,\n",
              "       encoder={0: 'functional', 1: ' func_needs_rep', 2: 'non_functional'},\n",
              "       estimator=XGBClassifier(base_score=0.5, booster='gbtree', callbacks=None,\n",
              "                               colsample_bylevel=1, colsample_bynode=1,\n",
              "                               colsample_bytree=1, early_stopping_rounds=None,\n",
              "                               enable_ca...\n",
              "                               gamma=0, gpu_id=-1, grow_policy='depthwise',\n",
              "                               importance_type=None, interaction_constraints='',\n",
              "                               learning_rate=0.5, max_bin=256,\n",
              "                               max_cat_to_onehot=4, max_delta_step=0,\n",
              "                               max_depth=6, max_leaves=0, min_child_weight=1,\n",
              "                               missing=nan, monotone_constraints='()',\n",
              "                               n_estimators=100, n_jobs=0, num_parallel_tree=1,\n",
              "                               objective='multi:softprob', predictor='auto',\n",
              "                               random_state=0, reg_alpha=0, ...))"
            ]
          },
          "execution_count": 42,
          "metadata": {},
          "output_type": "execute_result"
        }
      ],
      "source": [
        "plot_ROC_AUC(rf_cf_opt, X_train, y_train, X_test, y_test)\n",
        "plot_ROC_AUC(xgb_cf_opt, X_train, y_train, X_test, y_test)"
      ]
    },
    {
      "cell_type": "code",
      "execution_count": null,
      "metadata": {},
      "outputs": [],
      "source": []
    },
    {
      "cell_type": "code",
      "execution_count": null,
      "metadata": {},
      "outputs": [],
      "source": []
    }
  ],
  "metadata": {
    "colab": {
      "collapsed_sections": [
        "s9QK4M6bJG1C",
        "ipC-gfzyJG1f",
        "d9ImwcSDJG1f",
        "Cmef2rTsJG1h",
        "JyW8WC6hJG1j",
        "cJsudcKNJG1k",
        "etBpNARcJG1n",
        "WjosGzqvJG1p",
        "ZGbcckpOJG1q",
        "3O54UikJJG1r",
        "3Mrr3I-xJG1s",
        "h7AYHaeVJG1y",
        "4WH76QW9JG1z",
        "NlH2VvAuJG11"
      ],
      "name": "project2.ipynb",
      "provenance": []
    },
    "kernelspec": {
      "display_name": "Python 3.7.8 64-bit",
      "language": "python",
      "name": "python3"
    },
    "language_info": {
      "codemirror_mode": {
        "name": "ipython",
        "version": 3
      },
      "file_extension": ".py",
      "mimetype": "text/x-python",
      "name": "python",
      "nbconvert_exporter": "python",
      "pygments_lexer": "ipython3",
      "version": "3.7.8"
    },
    "vscode": {
      "interpreter": {
        "hash": "0a54084e6b208ee8d1ce3989ffc20924477a5f55f5a43e22e699a6741623861e"
      }
    }
  },
  "nbformat": 4,
  "nbformat_minor": 0
}
