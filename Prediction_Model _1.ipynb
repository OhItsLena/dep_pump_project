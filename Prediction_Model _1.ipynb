{
  "cells": [
    {
      "cell_type": "markdown",
      "metadata": {
        "id": "DhW1RO3DJG05"
      },
      "source": [
        "# Data Exploration Project - Pumps"
      ]
    },
    {
      "cell_type": "markdown",
      "metadata": {
        "id": "3mqm_gVtJG1B"
      },
      "source": [
        "## Business Understanding\n",
        "\n",
        "Daten über verschiedene Brunnen in einem afrikanischen Land.\n",
        "\n",
        "**Können wir vorhersagen welche Brunnen defekt, wartungsbedürftig oder voll funktional sind?**"
      ]
    },
    {
      "cell_type": "markdown",
      "metadata": {
        "id": "s9QK4M6bJG1C"
      },
      "source": [
        "## Data Understanding"
      ]
    },
    {
      "cell_type": "code",
      "execution_count": 3,
      "metadata": {
        "colab": {
          "base_uri": "https://localhost:8080/"
        },
        "id": "ZxThrpAOJG1D",
        "outputId": "813156a8-80e8-4e76-b55b-7c5b99168ff9"
      },
      "outputs": [],
      "source": [
        "import pandas as pd\n",
        "import matplotlib.pyplot as plt \n",
        "import seaborn as sns\n",
        "import numpy as np\n",
        "from category_encoders import TargetEncoder, BinaryEncoder\n",
        "from sklearn.pipeline import Pipeline, make_pipeline\n",
        "from sklearn.preprocessing import OrdinalEncoder, LabelEncoder, StandardScaler, OneHotEncoder, MinMaxScaler\n",
        "from sklearn.impute import SimpleImputer\n",
        "from sklearn.compose import ColumnTransformer\n",
        "from sklearn.base import BaseEstimator, TransformerMixin\n",
        "from sklearn.tree import DecisionTreeClassifier\n",
        "from sklearn.model_selection import cross_validate"
      ]
    },
    {
      "cell_type": "markdown",
      "metadata": {
        "id": "1rejyUeKJG1F"
      },
      "source": [
        "Einlesen der Trainings- und Testdaten."
      ]
    },
    {
      "cell_type": "code",
      "execution_count": 4,
      "metadata": {
        "id": "NWpTu_GUJG1H"
      },
      "outputs": [],
      "source": [
        "df_pump_train = pd.read_csv('pump_train.csv')\n",
        "df_pump_test = pd.read_csv('pump_test.csv')"
      ]
    },
    {
      "cell_type": "markdown",
      "metadata": {
        "id": "GYb79TGsJG1K"
      },
      "source": [
        "### Data Dictionary\n",
        "| Variable | Beschreibung |\n",
        "| -------- | ------------ |\n",
        "| amount_tsh | Total static head (amount water available to waterpoint) |\n",
        "| date_recorded | The date the row was entered |\n",
        "| funder | Who funded the well |\n",
        "| gps_height | Altitude of the well |\n",
        "| installer | Organization that installed the well |\n",
        "| longitude | GPS coordinate |\n",
        "| latitude | GPS coordinate |\n",
        "| wpt_name | Name of the waterpoint if there is one |\n",
        "| num_private | ? |\n",
        "| basin | Geographic water basin |\n",
        "| subvillage | Geographic location |\n",
        "| region | Geographic location |\n",
        "| region_code | Geographic location (coded) |\n",
        "| district_code | Geographic location (coded) |\n",
        "| lga | Geographic location |\n",
        "| ward | Geographic location |\n",
        "| population | Population around the well |\n",
        "| public_meeting | True/False |\n",
        "| recorded_by | Group entering this row of data \n",
        "| scheme_management | Who operates the waterpoint |\n",
        "| scheme_name | Who operates the waterpoint |\n",
        "| permit | If the waterpoint is permitted |\n",
        "| construction_year | Year the waterpoint was constructed \n",
        "| extraction_type | The kind of extraction the waterpoint uses \n",
        "| extraction_type_group | The kind of extraction the waterpoint uses |\n",
        "| extraction_type_class | The kind of extraction the waterpoint uses \n",
        "| management | How the waterpoint is managed |\n",
        "| management_group | How the waterpoint is managed |\n",
        "| payment | What the water costs |\n",
        "| payment_type | What the water costs |\n",
        "| water_quality | The quality of the water |\n",
        "| quality_group | The quality of the water |\n",
        "| quantity | The quantity of water |\n",
        "| quantity_group | The quantity of water |\n",
        "| source | The source of the water |\n",
        "| source_type | The source of the water |\n",
        "| source_class | The source of the water |\n",
        "| waterpoint_type | The kind of waterpoint |\n",
        "| waterpoint_type_group | The kind of waterpoint |\n",
        "| status_group | functional or non-functional or functional needs repair |"
      ]
    },
    {
      "cell_type": "markdown",
      "metadata": {
        "id": "vzPQZEd8JG1N"
      },
      "source": [
        "### Data Analysis"
      ]
    },
    {
      "cell_type": "markdown",
      "metadata": {
        "id": "8In45gg4JG1f"
      },
      "source": [
        "## Data Preparation"
      ]
    },
    {
      "cell_type": "markdown",
      "metadata": {
        "id": "NlH2VvAuJG11"
      },
      "source": [
        "## Pipeline"
      ]
    },
    {
      "cell_type": "markdown",
      "metadata": {
        "id": "EPAKPAhiJG11"
      },
      "source": [
        "[Categoric Encoder Package ->](https://contrib.scikit-learn.org/category_encoders/index.html)"
      ]
    },
    {
      "cell_type": "code",
      "execution_count": 5,
      "metadata": {},
      "outputs": [],
      "source": [
        "class YesNoEncoder(BaseEstimator, TransformerMixin):\n",
        "    def __init__(self, add_column = True):\n",
        "        self.add_column = add_column\n",
        "    \n",
        "    def fit(self, X, y=None):\n",
        "        return self\n",
        "    \n",
        "    def transform(self, X, y=None):\n",
        "        if self.add_column:\n",
        "            has_name = np.where(X['wpt_name']!= 'none', 1, 0)\n",
        "            Xcopy = X\n",
        "            Xcopy['wpt_name'] = has_name\n",
        "        return Xcopy"
      ]
    },
    {
      "cell_type": "code",
      "execution_count": 6,
      "metadata": {},
      "outputs": [],
      "source": [
        "class MyImputer(BaseEstimator, TransformerMixin):\n",
        "    def __init__(self, fill_value=\"other\"):\n",
        "        self.fill_value = fill_value\n",
        "        return None\n",
        "    \n",
        "    def fit(self, X, y=None):\n",
        "        return self\n",
        "    \n",
        "    def transform(self, X, y=None):\n",
        "        return np.array([self.fill_value if str(x)==str(np.nan) else x for x in X]).reshape(-1,1)"
      ]
    },
    {
      "cell_type": "code",
      "execution_count": 7,
      "metadata": {},
      "outputs": [],
      "source": [
        "scheme_pipeline = Pipeline([\n",
        "('imputer', MyImputer(fill_value=\"other\")),\n",
        "('one_hot', OneHotEncoder())\n",
        "])"
      ]
    },
    {
      "cell_type": "code",
      "execution_count": 8,
      "metadata": {},
      "outputs": [],
      "source": [
        "class YearAdder(BaseEstimator, TransformerMixin):\n",
        "    def __init__(self):\n",
        "        return None\n",
        "    \n",
        "    def fit(self, X, y=None):\n",
        "        return self\n",
        "    \n",
        "    def transform(self, X, y=None):\n",
        "        date_column = pd.Series(X)\n",
        "        return np.array(pd.DatetimeIndex(date_column).year).reshape(-1,1)\n",
        "        "
      ]
    },
    {
      "cell_type": "code",
      "execution_count": 9,
      "metadata": {},
      "outputs": [],
      "source": [
        "year_pipeline = Pipeline([\n",
        "    (\"add_year\", YearAdder()),\n",
        "    #(\"ord_enc\", OrdinalEncoder(handle_unknown='use_encoded_value', unknown_value=-1)),\n",
        "    (\"scale\", MinMaxScaler())\n",
        "])"
      ]
    },
    {
      "cell_type": "markdown",
      "metadata": {},
      "source": []
    },
    {
      "cell_type": "code",
      "execution_count": 10,
      "metadata": {},
      "outputs": [],
      "source": [
        "class AmountPerCapitaAdder(BaseEstimator, TransformerMixin):\n",
        "    def __init__(self):\n",
        "        return None\n",
        "    \n",
        "    def fit(self, X, y=None):\n",
        "        return self\n",
        "    \n",
        "    def transform(self, X, y=None):\n",
        "        date_column = pd.Series(X)\n",
        "        return np.array(pd.DatetimeIndex(date_column).year).reshape(-1,1)"
      ]
    },
    {
      "cell_type": "code",
      "execution_count": 49,
      "metadata": {
        "colab": {
          "base_uri": "https://localhost:8080/",
          "height": 947
        },
        "id": "uO_zmkM9JG11",
        "outputId": "c2aab073-68d9-41e7-fa7e-49605825c5cf"
      },
      "outputs": [
        {
          "name": "stderr",
          "output_type": "stream",
          "text": [
            "c:\\Users\\LordFabi\\anaconda3\\lib\\site-packages\\category_encoders\\target_encoder.py:92: FutureWarning: Default parameter min_samples_leaf will change in version 2.6.See https://github.com/scikit-learn-contrib/category_encoders/issues/327\n",
            "  warnings.warn(\"Default parameter min_samples_leaf will change in version 2.6.\"\n",
            "c:\\Users\\LordFabi\\anaconda3\\lib\\site-packages\\category_encoders\\target_encoder.py:97: FutureWarning: Default parameter smoothing will change in version 2.6.See https://github.com/scikit-learn-contrib/category_encoders/issues/327\n",
            "  warnings.warn(\"Default parameter smoothing will change in version 2.6.\"\n"
          ]
        }
      ],
      "source": [
        "df_train = df_pump_train.copy()\n",
        "df_test = df_pump_test.copy()\n",
        "\n",
        "# add new target variables\n",
        "df_train[\"t_functional\"] = df_train[\"status_group\"].apply(lambda x: 0 if x==\"non functional\" else 1)\n",
        "df_train[\"t_needs_rep\"] = df_train[\"status_group\"].apply(lambda x: 1 if x==\"functional needs repair\" else 0)\n",
        "    #for test\n",
        "df_test[\"t_functional\"] = df_test[\"status_group\"].apply(lambda x: 0 if x==\"non functional\" else 1)\n",
        "df_test[\"t_needs_rep\"] = df_test[\"status_group\"].apply(lambda x: 1 if x==\"functional needs repair\" else 0)\n",
        "\n",
        "# drop outliers\n",
        "df_train = df_train.drop(df_train[df_train.longitude == 0].index)\n",
        "df_test = df_test.drop(df_test[df_test.longitude==0].index)\n",
        "# add new feature manually\n",
        "df_train[\"amount_per_capita\"] = df_train.apply(lambda x: x[\"amount_tsh\"]/x[\"population\"] if x[\"population\"] != 0 else 0, axis=1)\n",
        "\n",
        "df_test[\"amount_per_capita\"] = df_test.apply(lambda x: x[\"amount_tsh\"]/x[\"population\"] if x[\"population\"] != 0 else 0, axis=1)\n",
        "\n",
        "# transform dtypes manually\n",
        "df_train[\"district_code\"] = df_train[\"district_code\"].astype(\"category\")\n",
        "df_train[\"region_code\"] = df_train[\"region_code\"].astype(\"category\")\n",
        "\n",
        "df_test[\"district_code\"] = df_test[\"district_code\"].astype(\"category\")\n",
        "df_test[\"region_code\"] = df_test[\"region_code\"].astype(\"category\")\n",
        "\n",
        "\n",
        "y_train = df_train.loc[:,'status_group']\n",
        "le = LabelEncoder()\n",
        "y_train = le.fit_transform(y_train)\n",
        "\n",
        "\n",
        "#functional\n",
        "y_train_f = df_train[\"t_functional\"]\n",
        "le = LabelEncoder()\n",
        "y_train_f = le.fit_transform(y_train_f)\n",
        "y_test_f = df_test[\"t_functional\"]\n",
        "le = LabelEncoder()\n",
        "y_test_f = le.fit_transform(y_test_f)\n",
        "\n",
        "\n",
        "y_train_r = df_train[\"t_needs_rep\"]\n",
        "\n",
        "col_imp = Pipeline([\n",
        "    ('simp_inputer', SimpleImputer(strategy='constant', fill_value='Unknown')),\n",
        "    ('target_enc', TargetEncoder()),\n",
        "    ('min_max', MinMaxScaler())\n",
        "])\n",
        "\n",
        "target_enc_pipe = Pipeline([\n",
        "    ('target_enc', TargetEncoder()),\n",
        "    ('min_max', MinMaxScaler())\n",
        "])\n",
        "\n",
        "col_trans = ColumnTransformer(transformers=[\n",
        "    ['col_imp', col_imp, ['funder', 'installer', 'subvillage']],\n",
        "    ['target_enc', target_enc_pipe, ['lga', 'ward', 'management']],\n",
        "    ['oh_enc', OneHotEncoder(), ['basin', 'payment','water_quality', 'quantity','source','waterpoint_type', 'extraction_type_class']],\n",
        "    ['bin_enc', BinaryEncoder(), ['region', 'region_code', 'district_code']], # warum alle 3 ?\n",
        "    ['cust_trans', YesNoEncoder(), ['wpt_name']],\n",
        "    [\"num\", MinMaxScaler(), [\"amount_tsh\", \"population\", \"amount_per_capita\", 'gps_height', 'longitude', 'latitude']],\n",
        "    [\"scheme\", scheme_pipeline, \"scheme_management\"],\n",
        "    [\"year\",  year_pipeline, \"date_recorded\"]\n",
        "], remainder='drop')"
      ]
    },
    {
      "cell_type": "code",
      "execution_count": 86,
      "metadata": {},
      "outputs": [
        {
          "name": "stderr",
          "output_type": "stream",
          "text": [
            "c:\\Users\\LordFabi\\anaconda3\\lib\\site-packages\\category_encoders\\target_encoder.py:92: FutureWarning: Default parameter min_samples_leaf will change in version 2.6.See https://github.com/scikit-learn-contrib/category_encoders/issues/327\n",
            "  warnings.warn(\"Default parameter min_samples_leaf will change in version 2.6.\"\n",
            "c:\\Users\\LordFabi\\anaconda3\\lib\\site-packages\\category_encoders\\target_encoder.py:97: FutureWarning: Default parameter smoothing will change in version 2.6.See https://github.com/scikit-learn-contrib/category_encoders/issues/327\n",
            "  warnings.warn(\"Default parameter smoothing will change in version 2.6.\"\n",
            "c:\\Users\\LordFabi\\anaconda3\\lib\\site-packages\\category_encoders\\target_encoder.py:92: FutureWarning: Default parameter min_samples_leaf will change in version 2.6.See https://github.com/scikit-learn-contrib/category_encoders/issues/327\n",
            "  warnings.warn(\"Default parameter min_samples_leaf will change in version 2.6.\"\n",
            "c:\\Users\\LordFabi\\anaconda3\\lib\\site-packages\\category_encoders\\target_encoder.py:97: FutureWarning: Default parameter smoothing will change in version 2.6.See https://github.com/scikit-learn-contrib/category_encoders/issues/327\n",
            "  warnings.warn(\"Default parameter smoothing will change in version 2.6.\"\n"
          ]
        }
      ],
      "source": [
        "X_train_f = col_trans.fit_transform(X=df_train, y=y_train_f)\n",
        "\n",
        "X_test = col_trans.transform(X=df_test)"
      ]
    },
    {
      "cell_type": "markdown",
      "metadata": {},
      "source": [
        "Modelling for Functional vs non Functional"
      ]
    },
    {
      "cell_type": "code",
      "execution_count": 89,
      "metadata": {},
      "outputs": [],
      "source": [
        "import pandas as pd\n",
        "from tqdm import tqdm\n",
        "\n",
        "from sklearn.linear_model import LogisticRegression\n",
        "from sklearn.tree import DecisionTreeClassifier\n",
        "from sklearn.ensemble import RandomForestClassifier\n",
        "from xgboost import XGBClassifier\n",
        "from sklearn.neighbors import KNeighborsClassifier\n",
        "from sklearn.model_selection import RandomizedSearchCV\n",
        "from sklearn.svm import SVC\n",
        "\n",
        "from sklearn import metrics\n",
        "from sklearn.metrics import RocCurveDisplay\n",
        "from sklearn.metrics import roc_auc_score\n",
        "from sklearn.model_selection import cross_validate\n",
        "from sklearn.metrics import precision_score\n",
        "from sklearn.metrics import recall_score\n"
      ]
    },
    {
      "cell_type": "code",
      "execution_count": 93,
      "metadata": {},
      "outputs": [],
      "source": [
        "df_results = pd.DataFrame(data=[], columns=[\"Model\", \"AUC Train\", \"AUC CV\",\"Precsion\",\"Recall\"])\n"
      ]
    },
    {
      "cell_type": "markdown",
      "metadata": {},
      "source": [
        "Logistische Regression"
      ]
    },
    {
      "cell_type": "code",
      "execution_count": 94,
      "metadata": {},
      "outputs": [],
      "source": [
        "lr_cf = LogisticRegression(solver=\"sag\", max_iter=1000, n_jobs= -1, class_weight='balanced')\n",
        "lr_cf.fit(X_train_f, y_train_f)\n",
        "y_pred_f = lr_cf.predict_log_proba(X_train_f)[:,1]\n",
        "\n",
        "auc_train_f = roc_auc_score(y_train_f, y_pred_f)\n",
        "cv_res = cross_validate(estimator=lr_cf, X=X_train_f, y=y_train_f, cv=5, scoring='roc_auc_ovr', n_jobs= -1)\n",
        "auc_cv = cv_res[\"test_score\"].mean()\n",
        "\n",
        "y_pred_f_bin = lr_cf.predict(X_train_f)\n",
        "precision = precision_score(y_train_f, y_pred_f_bin)\n",
        "recall = recall_score(y_train_f, y_pred_f_bin)\n",
        "\n",
        "df_results.loc[len(df_results)] = [lr_cf, auc_train_f, auc_cv, precision, recall]"
      ]
    },
    {
      "cell_type": "markdown",
      "metadata": {},
      "source": [
        "Decision Tree"
      ]
    },
    {
      "cell_type": "code",
      "execution_count": 96,
      "metadata": {},
      "outputs": [],
      "source": [
        "dt_cf = DecisionTreeClassifier()\n",
        "dt_cf.fit(X_train_f, y_train_f)\n",
        "\n",
        "y_pred_f = dt_cf.predict_proba(X_train_f)[:,1]\n",
        "\n",
        "auc_train_f = roc_auc_score(y_train_f, y_pred_f)\n",
        "cv_res = cross_validate(estimator=dt_cf, X=X_train_f, y=y_train_f, cv=5, scoring='roc_auc_ovr', n_jobs= -1)\n",
        "\n",
        "y_pred_f_bin = dt_cf.predict(X_train_f)\n",
        "precision = precision_score(y_train_f, y_pred_f_bin)\n",
        "recall = recall_score(y_train_f, y_pred_f_bin)\n",
        "\n",
        "df_results.loc[len(df_results)] = [dt_cf, auc_train_f, auc_cv, precision, recall]"
      ]
    },
    {
      "cell_type": "markdown",
      "metadata": {},
      "source": [
        "### Random Forest"
      ]
    },
    {
      "cell_type": "code",
      "execution_count": 97,
      "metadata": {},
      "outputs": [],
      "source": [
        "rf_cf = RandomForestClassifier(random_state=42, n_jobs= -1)\n",
        "rf_cf.fit(X_train_f, y_train_f)\n",
        "y_pred_f = rf_cf.predict_proba(X_train_f)[:,1]\n",
        "auc_train_f = roc_auc_score(y_train_f, y_pred_f)\n",
        "cv_res = cross_validate(estimator=rf_cf, X=X_train_f, y=y_train_f, cv=5, scoring='roc_auc_ovr', n_jobs= -1)\n",
        "auc_cv = cv_res[\"test_score\"].mean()\n",
        "\n",
        "y_pred_f_bin = rf_cf.predict(X_train_f)\n",
        "precision = precision_score(y_train_f, y_pred_f_bin)\n",
        "recall = recall_score(y_train_f, y_pred_f_bin)\n",
        "\n",
        "df_results.loc[len(df_results)] = ['Random Forest', auc_train_f, auc_cv, precision, recall]"
      ]
    },
    {
      "cell_type": "markdown",
      "metadata": {},
      "source": [
        "### XG Boost"
      ]
    },
    {
      "cell_type": "code",
      "execution_count": 98,
      "metadata": {},
      "outputs": [
        {
          "name": "stderr",
          "output_type": "stream",
          "text": [
            "c:\\Users\\LordFabi\\anaconda3\\lib\\site-packages\\xgboost\\sklearn.py:1224: UserWarning: The use of label encoder in XGBClassifier is deprecated and will be removed in a future release. To remove this warning, do the following: 1) Pass option use_label_encoder=False when constructing XGBClassifier object; and 2) Encode your labels (y) as integers starting with 0, i.e. 0, 1, 2, ..., [num_class - 1].\n",
            "  warnings.warn(label_encoder_deprecation_msg, UserWarning)\n",
            "c:\\Users\\LordFabi\\anaconda3\\lib\\site-packages\\xgboost\\sklearn.py:1224: UserWarning: The use of label encoder in XGBClassifier is deprecated and will be removed in a future release. To remove this warning, do the following: 1) Pass option use_label_encoder=False when constructing XGBClassifier object; and 2) Encode your labels (y) as integers starting with 0, i.e. 0, 1, 2, ..., [num_class - 1].\n",
            "  warnings.warn(label_encoder_deprecation_msg, UserWarning)\n",
            "c:\\Users\\LordFabi\\anaconda3\\lib\\site-packages\\xgboost\\sklearn.py:1224: UserWarning: The use of label encoder in XGBClassifier is deprecated and will be removed in a future release. To remove this warning, do the following: 1) Pass option use_label_encoder=False when constructing XGBClassifier object; and 2) Encode your labels (y) as integers starting with 0, i.e. 0, 1, 2, ..., [num_class - 1].\n",
            "  warnings.warn(label_encoder_deprecation_msg, UserWarning)\n",
            "c:\\Users\\LordFabi\\anaconda3\\lib\\site-packages\\xgboost\\sklearn.py:1224: UserWarning: The use of label encoder in XGBClassifier is deprecated and will be removed in a future release. To remove this warning, do the following: 1) Pass option use_label_encoder=False when constructing XGBClassifier object; and 2) Encode your labels (y) as integers starting with 0, i.e. 0, 1, 2, ..., [num_class - 1].\n",
            "  warnings.warn(label_encoder_deprecation_msg, UserWarning)\n",
            "c:\\Users\\LordFabi\\anaconda3\\lib\\site-packages\\xgboost\\sklearn.py:1224: UserWarning: The use of label encoder in XGBClassifier is deprecated and will be removed in a future release. To remove this warning, do the following: 1) Pass option use_label_encoder=False when constructing XGBClassifier object; and 2) Encode your labels (y) as integers starting with 0, i.e. 0, 1, 2, ..., [num_class - 1].\n",
            "  warnings.warn(label_encoder_deprecation_msg, UserWarning)\n",
            "c:\\Users\\LordFabi\\anaconda3\\lib\\site-packages\\xgboost\\sklearn.py:1224: UserWarning: The use of label encoder in XGBClassifier is deprecated and will be removed in a future release. To remove this warning, do the following: 1) Pass option use_label_encoder=False when constructing XGBClassifier object; and 2) Encode your labels (y) as integers starting with 0, i.e. 0, 1, 2, ..., [num_class - 1].\n",
            "  warnings.warn(label_encoder_deprecation_msg, UserWarning)\n"
          ]
        }
      ],
      "source": [
        "xgb_cf = XGBClassifier(eval_metric = 'auc')\n",
        "xgb_cf.fit(X_train_f, y_train_f)\n",
        "y_pred_f = xgb_cf.predict_proba(X_train_f)[:,1]\n",
        "auc_train = roc_auc_score(y_train_f, y_pred_f, multi_class='ovr')\n",
        "cv_res = cross_validate(estimator=xgb_cf, X=X_train_f, y=y_train_f, cv=5, scoring='roc_auc_ovr')\n",
        "auc_cv = cv_res[\"test_score\"].mean()\n",
        "\n",
        "y_pred_f_bin = xgb_cf.predict(X_train_f)\n",
        "precision = precision_score(y_train_f, y_pred_f_bin)\n",
        "recall = recall_score(y_train_f, y_pred_f_bin)\n",
        "\n",
        "df_results.loc[len(df_results)] = ['xgBoost', auc_train, auc_cv, precision, recall]"
      ]
    },
    {
      "cell_type": "markdown",
      "metadata": {},
      "source": [
        "### K nearest Neighbors"
      ]
    },
    {
      "cell_type": "code",
      "execution_count": 38,
      "metadata": {},
      "outputs": [],
      "source": [
        "knn_cf = KNeighborsClassifier(n_jobs= -1)\n",
        "knn_cf.fit(X_train_f, y_train_f)\n",
        "y_pred_F = knn_cf.predict_proba(X_train_f)\n",
        "\n",
        "auc_train = roc_auc_score(y_train_f, y_pred_f)\n",
        "cv_res = cross_validate(estimator=knn_cf, X=X_train_f, y=y_train_f, cv=5, scoring='roc_auc_ovr', n_jobs= -1)\n",
        "auc_cv = cv_res[\"test_score\"].mean()\n",
        "\n",
        "y_pred_f_bin = knn_cf.predict(X_train_f)\n",
        "precision = precision_score(y_train_f, y_pred_f_bin)\n",
        "recall = recall_score(y_train_f, y_pred_f_bin)\n",
        "\n",
        "df_results.loc[len(df_results)] = [knn_cf, auc_train, auc_cv]\n"
      ]
    },
    {
      "cell_type": "code",
      "execution_count": 21,
      "metadata": {},
      "outputs": [
        {
          "data": {
            "text/plain": [
              "'svm_cf = SVC(probability=True,cache_size= 3000)\\nsvm_cf.fit(X_train_f, y_train_f)\\ny_pred_f = svm_cf.predict_proba(X_train_f)[:,1]\\nprint(y_pred_f)\\nauc_train = roc_auc_score(y_train_f, y_pred_f)\\ncv_res = cross_validate(estimator=svm_cf, X=X_train_f, y=y_train_f, cv=5, scoring=\\'roc_auc_ovr\\', n_jobs=-1)\\nauc_cv = cv_res[\"test_score\"].mean()\\ndf_results.loc[len(df_results)] = [svm_cf, auc_train, auc_cv]'"
            ]
          },
          "execution_count": 21,
          "metadata": {},
          "output_type": "execute_result"
        }
      ],
      "source": [
        "'''svm_cf = SVC(probability=True,cache_size= 3000)\n",
        "svm_cf.fit(X_train_f, y_train_f)\n",
        "y_pred_f = svm_cf.predict_proba(X_train_f)[:,1]\n",
        "print(y_pred_f)\n",
        "auc_train = roc_auc_score(y_train_f, y_pred_f)\n",
        "cv_res = cross_validate(estimator=svm_cf, X=X_train_f, y=y_train_f, cv=5, scoring='roc_auc_ovr', n_jobs=-1)\n",
        "auc_cv = cv_res[\"test_score\"].mean()\n",
        "\n",
        "y_pred_f_bin = svm_cf.predict(X_train_f)\n",
        "precision = precision_score(y_train_f, y_pred_f_bin)\n",
        "recall = recall_score(y_train_f, y_pred_f_bin)\n",
        "\n",
        "df_results.loc[len(df_results)] = [svm_cf, auc_train, auc_cv, precision, recall]'''"
      ]
    },
    {
      "cell_type": "code",
      "execution_count": 99,
      "metadata": {},
      "outputs": [
        {
          "data": {
            "text/html": [
              "<div>\n",
              "<style scoped>\n",
              "    .dataframe tbody tr th:only-of-type {\n",
              "        vertical-align: middle;\n",
              "    }\n",
              "\n",
              "    .dataframe tbody tr th {\n",
              "        vertical-align: top;\n",
              "    }\n",
              "\n",
              "    .dataframe thead th {\n",
              "        text-align: right;\n",
              "    }\n",
              "</style>\n",
              "<table border=\"1\" class=\"dataframe\">\n",
              "  <thead>\n",
              "    <tr style=\"text-align: right;\">\n",
              "      <th></th>\n",
              "      <th>Model</th>\n",
              "      <th>AUC Train</th>\n",
              "      <th>AUC CV</th>\n",
              "      <th>Precsion</th>\n",
              "      <th>Recall</th>\n",
              "    </tr>\n",
              "  </thead>\n",
              "  <tbody>\n",
              "    <tr>\n",
              "      <th>0</th>\n",
              "      <td>LogisticRegression(class_weight='balanced', ma...</td>\n",
              "      <td>0.922693</td>\n",
              "      <td>0.921730</td>\n",
              "      <td>0.880085</td>\n",
              "      <td>0.870333</td>\n",
              "    </tr>\n",
              "    <tr>\n",
              "      <th>1</th>\n",
              "      <td>DecisionTreeClassifier()</td>\n",
              "      <td>1.000000</td>\n",
              "      <td>0.921730</td>\n",
              "      <td>1.000000</td>\n",
              "      <td>1.000000</td>\n",
              "    </tr>\n",
              "    <tr>\n",
              "      <th>2</th>\n",
              "      <td>Random Forest</td>\n",
              "      <td>1.000000</td>\n",
              "      <td>0.933843</td>\n",
              "      <td>0.999967</td>\n",
              "      <td>1.000000</td>\n",
              "    </tr>\n",
              "    <tr>\n",
              "      <th>3</th>\n",
              "      <td>xgBoost</td>\n",
              "      <td>0.969466</td>\n",
              "      <td>0.945306</td>\n",
              "      <td>0.896865</td>\n",
              "      <td>0.955713</td>\n",
              "    </tr>\n",
              "  </tbody>\n",
              "</table>\n",
              "</div>"
            ],
            "text/plain": [
              "                                               Model  AUC Train    AUC CV  \\\n",
              "0  LogisticRegression(class_weight='balanced', ma...   0.922693  0.921730   \n",
              "1                           DecisionTreeClassifier()   1.000000  0.921730   \n",
              "2                                      Random Forest   1.000000  0.933843   \n",
              "3                                            xgBoost   0.969466  0.945306   \n",
              "\n",
              "   Precsion    Recall  \n",
              "0  0.880085  0.870333  \n",
              "1  1.000000  1.000000  \n",
              "2  0.999967  1.000000  \n",
              "3  0.896865  0.955713  "
            ]
          },
          "metadata": {},
          "output_type": "display_data"
        }
      ],
      "source": [
        "display(df_results)"
      ]
    },
    {
      "cell_type": "markdown",
      "metadata": {},
      "source": [
        "### Hyperparameter Tuning\n",
        "<br>Logistische Regression, Random Forest und XGBoost sind besitzen die höchste Güte\n",
        "<br>Modellgüte kann noch verbessert werden"
      ]
    },
    {
      "cell_type": "code",
      "execution_count": 61,
      "metadata": {},
      "outputs": [],
      "source": [
        "df_tuned = pd.DataFrame(data=[], columns=[\"Model\", \"AUC Train\", \"AUC CV\", \"Precision\", \"Recall\"])"
      ]
    },
    {
      "cell_type": "code",
      "execution_count": 62,
      "metadata": {},
      "outputs": [],
      "source": [
        "param_grid = [{\n",
        "    \"n_estimators\":[100, 500, 1000, 2000],\n",
        "    \"max_depth\": [5, 10, 15, 20],\n",
        "    \"bootstrap\": [True, False]\n",
        "}]\n",
        "\n",
        "rf_cf = RandomForestClassifier(random_state=42, n_jobs= -1)\n",
        "rs = RandomizedSearchCV(rf_cf, param_distributions=param_grid, scoring=\"roc_auc_ovr\", cv=5, n_jobs= -1, n_iter = 5)\n",
        "rs.fit(X_train_f, y_train_f)\n",
        "best_rf = rs.best_params_\n"
      ]
    },
    {
      "cell_type": "code",
      "execution_count": 65,
      "metadata": {},
      "outputs": [],
      "source": [
        "best_rf = best"
      ]
    },
    {
      "cell_type": "code",
      "execution_count": 68,
      "metadata": {},
      "outputs": [],
      "source": [
        "from sklearn.metrics import precision_score\n",
        "from sklearn.metrics import recall_score\n",
        "\n",
        "rf_cf_t = RandomForestClassifier(random_state=42, bootstrap = best_rf.get('bootstrap'), max_depth = best_rf.get('max_depth'), n_estimators =best_rf.get('n_estimators'), n_jobs= -1)\n",
        "rf_cf_t.fit(X_train_f, y_train_f)\n",
        "y_pred_f = rf_cf_t.predict_proba(X_train_f)[:,1]\n",
        "\n",
        "auc_train_f = roc_auc_score(y_train_f, y_pred_f)\n",
        "cv_res = cross_validate(estimator=rf_cf_t, X=X_train_f, y=y_train_f, cv=5, scoring='roc_auc_ovr', n_jobs=-1)\n",
        "auc_cv = cv_res[\"test_score\"].mean()\n",
        "\n",
        "y_pred_f_bin = rf_cf_t.predict(X_train_f)\n",
        "precision = precision_score(y_train_f, y_pred_f_bin)\n",
        "recall = recall_score(y_train_f, y_pred_f_bin)\n",
        "\n",
        "df_tuned.loc[len(df_tuned)] = [rf_cf_t, auc_train_f, auc_cv, precision, recall]"
      ]
    },
    {
      "cell_type": "markdown",
      "metadata": {},
      "source": [
        "### XGBoost"
      ]
    },
    {
      "cell_type": "code",
      "execution_count": 70,
      "metadata": {},
      "outputs": [
        {
          "name": "stderr",
          "output_type": "stream",
          "text": [
            "c:\\Users\\LordFabi\\anaconda3\\lib\\site-packages\\xgboost\\sklearn.py:1224: UserWarning: The use of label encoder in XGBClassifier is deprecated and will be removed in a future release. To remove this warning, do the following: 1) Pass option use_label_encoder=False when constructing XGBClassifier object; and 2) Encode your labels (y) as integers starting with 0, i.e. 0, 1, 2, ..., [num_class - 1].\n",
            "  warnings.warn(label_encoder_deprecation_msg, UserWarning)\n"
          ]
        }
      ],
      "source": [
        "param_grid = [{\n",
        "    \"eta\":[0.05, 0.75, 0.1, 0.125, 0.15],\n",
        "    \"max_depth\": [5, 6, 7, 8, 9],\n",
        "    \"min_child_weight\": [0.75, 1, 1,25]\n",
        "}]\n",
        "\n",
        "xg_cf_t= XGBClassifier(random_state=42, n_jobs= -1, eval_metric = 'auc')\n",
        "rs = RandomizedSearchCV(xg_cf_t, param_distributions=param_grid, scoring=\"roc_auc_ovr\", cv=5, n_jobs= -1, n_iter = 5)\n",
        "rs.fit(X_train_f, y_train_f)\n",
        "best_xg = rs.best_params_"
      ]
    },
    {
      "cell_type": "code",
      "execution_count": 73,
      "metadata": {},
      "outputs": [
        {
          "name": "stderr",
          "output_type": "stream",
          "text": [
            "c:\\Users\\LordFabi\\anaconda3\\lib\\site-packages\\xgboost\\sklearn.py:1224: UserWarning: The use of label encoder in XGBClassifier is deprecated and will be removed in a future release. To remove this warning, do the following: 1) Pass option use_label_encoder=False when constructing XGBClassifier object; and 2) Encode your labels (y) as integers starting with 0, i.e. 0, 1, 2, ..., [num_class - 1].\n",
            "  warnings.warn(label_encoder_deprecation_msg, UserWarning)\n"
          ]
        }
      ],
      "source": [
        "xgb_cf_t = XGBClassifier(nthread=-1,eta=best_xg.get('eta'), max_depth= best_xg.get('max_depth'), min_child_weight= best_xg.get('min_child_weight'), eval_metric = 'auc', n_jobs= -1)\n",
        "xgb_cf_t.fit(X_train_f, y_train_f)\n",
        "y_pred_f = xgb_cf_t.predict_proba(X_train_f)[:,1]\n",
        "auc_train = roc_auc_score(y_train_f, y_pred_f, multi_class='ovr')\n",
        "cv_res = cross_validate(estimator=xgb_cf_t, X=X_train_f, y=y_train_f, cv=5, scoring='roc_auc_ovr',  n_jobs= -1)\n",
        "auc_cv = cv_res[\"test_score\"].mean()\n",
        "\n",
        "y_pred_f_bin = xgb_cf_t.predict(X_train_f)\n",
        "precision = precision_score(y_train_f, y_pred_f_bin)\n",
        "recall = recall_score(y_train_f, y_pred_f_bin)\n",
        "\n",
        "df_tuned.loc[len(df_results)] = [xgb_cf_t, auc_train, auc_cv, precision, recall]"
      ]
    },
    {
      "cell_type": "markdown",
      "metadata": {},
      "source": [
        "### Support Vector Machine"
      ]
    },
    {
      "cell_type": "code",
      "execution_count": 27,
      "metadata": {},
      "outputs": [
        {
          "data": {
            "text/plain": [
              "'param_grid = [{\\n    \"kernel\":[\\'poly\\', \\'rbf\\', \\'sigmoid\\', \\'precomputed\\'],\\n    \"coef0\": [0.1, 0.5, 2],\\n    \"shrinking\": [True, False]\\n}]\\n\\nsvm_cf = SVC(probability=True,cache_size= 1000)\\nrs = RandomizedSearchCV(svm_cf, param_distributions=param_grid, scoring=\"roc_auc_ovr\", cv=5, n_jobs= -1, n_iter = 5)\\nrs.fit(X_train_f, y_train_f)\\nbest = rs.best_params_'"
            ]
          },
          "execution_count": 27,
          "metadata": {},
          "output_type": "execute_result"
        }
      ],
      "source": [
        "'''param_grid = [{\n",
        "    \"kernel\":['poly', 'rbf', 'sigmoid', 'precomputed'],\n",
        "    \"coef0\": [0.1, 0.5, 2],\n",
        "    \"shrinking\": [True, False]\n",
        "}]\n",
        "\n",
        "svm_cf = SVC(probability=True,cache_size= 1000)\n",
        "rs = RandomizedSearchCV(svm_cf, param_distributions=param_grid, scoring=\"roc_auc_ovr\", cv=5, n_jobs= -1, n_iter = 5)\n",
        "rs.fit(X_train_f, y_train_f)\n",
        "best = rs.best_params_'''"
      ]
    },
    {
      "cell_type": "code",
      "execution_count": 26,
      "metadata": {},
      "outputs": [
        {
          "data": {
            "text/plain": [
              "'svm_cf = SVC(probability=True,cache_size= 1000, kernel=best.get(\\'kernel\\'), coef0=best.get(\\'coef0\\'), shrinking=best.get(\\'shrinking\\'))\\nsvm_cf.fit(X_train_f, y_train_f)\\ny_pred_f = svm_cf.predict_proba(X_train_f)[:,1]\\nauc_train = roc_auc_score(y_train_f, y_pred_f)\\ncv_res = cross_validate(estimator=svm_cf, X=X_train_f, y=y_train_f, cv=5, scoring=\\'roc_auc_ovr\\', n_jobs=-1)\\nauc_cv = cv_res[\"test_score\"].mean()\\ndf_tuned.loc[len(df_results)] = [svm_cf, auc_train, auc_cv]'"
            ]
          },
          "execution_count": 26,
          "metadata": {},
          "output_type": "execute_result"
        }
      ],
      "source": [
        "'''svm_cf = SVC(probability=True,cache_size= 1000, kernel=best.get('kernel'), coef0=best.get('coef0'), shrinking=best.get('shrinking'))\n",
        "svm_cf.fit(X_train_f, y_train_f)\n",
        "y_pred_f = svm_cf.predict_proba(X_train_f)[:,1]\n",
        "auc_train = roc_auc_score(y_train_f, y_pred_f)\n",
        "cv_res = cross_validate(estimator=svm_cf, X=X_train_f, y=y_train_f, cv=5, scoring='roc_auc_ovr', n_jobs=-1)\n",
        "auc_cv = cv_res[\"test_score\"].mean()\n",
        "\n",
        "y_pred_f_bin = svm_cf.predict(X_train_f)\n",
        "precision = precision_score(y_train_f, y_pred_f_bin)\n",
        "recall = recall_score(y_train_f, y_pred_f_bin)\n",
        "\n",
        "df_tuned.loc[len(df_results)] = [svm_cf, auc_train, auc_cv, precision, recall]'''\n"
      ]
    },
    {
      "cell_type": "code",
      "execution_count": 100,
      "metadata": {},
      "outputs": [
        {
          "data": {
            "text/html": [
              "<div>\n",
              "<style scoped>\n",
              "    .dataframe tbody tr th:only-of-type {\n",
              "        vertical-align: middle;\n",
              "    }\n",
              "\n",
              "    .dataframe tbody tr th {\n",
              "        vertical-align: top;\n",
              "    }\n",
              "\n",
              "    .dataframe thead th {\n",
              "        text-align: right;\n",
              "    }\n",
              "</style>\n",
              "<table border=\"1\" class=\"dataframe\">\n",
              "  <thead>\n",
              "    <tr style=\"text-align: right;\">\n",
              "      <th></th>\n",
              "      <th>Model</th>\n",
              "      <th>AUC Train</th>\n",
              "      <th>AUC CV</th>\n",
              "      <th>Precision</th>\n",
              "      <th>Recall</th>\n",
              "    </tr>\n",
              "  </thead>\n",
              "  <tbody>\n",
              "    <tr>\n",
              "      <th>0</th>\n",
              "      <td>(DecisionTreeClassifier(max_depth=15, max_feat...</td>\n",
              "      <td>0.978130</td>\n",
              "      <td>0.940178</td>\n",
              "      <td>0.898105</td>\n",
              "      <td>0.979237</td>\n",
              "    </tr>\n",
              "    <tr>\n",
              "      <th>8</th>\n",
              "      <td>XGBClassifier(base_score=0.5, booster='gbtree'...</td>\n",
              "      <td>0.970193</td>\n",
              "      <td>0.945753</td>\n",
              "      <td>0.896865</td>\n",
              "      <td>0.955713</td>\n",
              "    </tr>\n",
              "  </tbody>\n",
              "</table>\n",
              "</div>"
            ],
            "text/plain": [
              "                                               Model  AUC Train    AUC CV  \\\n",
              "0  (DecisionTreeClassifier(max_depth=15, max_feat...   0.978130  0.940178   \n",
              "8  XGBClassifier(base_score=0.5, booster='gbtree'...   0.970193  0.945753   \n",
              "\n",
              "   Precision    Recall  \n",
              "0   0.898105  0.979237  \n",
              "8   0.896865  0.955713  "
            ]
          },
          "metadata": {},
          "output_type": "display_data"
        },
        {
          "data": {
            "text/html": [
              "<div>\n",
              "<style scoped>\n",
              "    .dataframe tbody tr th:only-of-type {\n",
              "        vertical-align: middle;\n",
              "    }\n",
              "\n",
              "    .dataframe tbody tr th {\n",
              "        vertical-align: top;\n",
              "    }\n",
              "\n",
              "    .dataframe thead th {\n",
              "        text-align: right;\n",
              "    }\n",
              "</style>\n",
              "<table border=\"1\" class=\"dataframe\">\n",
              "  <thead>\n",
              "    <tr style=\"text-align: right;\">\n",
              "      <th></th>\n",
              "      <th>Model</th>\n",
              "      <th>AUC Train</th>\n",
              "      <th>AUC CV</th>\n",
              "      <th>Precsion</th>\n",
              "      <th>Recall</th>\n",
              "    </tr>\n",
              "  </thead>\n",
              "  <tbody>\n",
              "    <tr>\n",
              "      <th>0</th>\n",
              "      <td>LogisticRegression(class_weight='balanced', ma...</td>\n",
              "      <td>0.922693</td>\n",
              "      <td>0.921730</td>\n",
              "      <td>0.880085</td>\n",
              "      <td>0.870333</td>\n",
              "    </tr>\n",
              "    <tr>\n",
              "      <th>1</th>\n",
              "      <td>DecisionTreeClassifier()</td>\n",
              "      <td>1.000000</td>\n",
              "      <td>0.921730</td>\n",
              "      <td>1.000000</td>\n",
              "      <td>1.000000</td>\n",
              "    </tr>\n",
              "    <tr>\n",
              "      <th>2</th>\n",
              "      <td>Random Forest</td>\n",
              "      <td>1.000000</td>\n",
              "      <td>0.933843</td>\n",
              "      <td>0.999967</td>\n",
              "      <td>1.000000</td>\n",
              "    </tr>\n",
              "    <tr>\n",
              "      <th>3</th>\n",
              "      <td>xgBoost</td>\n",
              "      <td>0.969466</td>\n",
              "      <td>0.945306</td>\n",
              "      <td>0.896865</td>\n",
              "      <td>0.955713</td>\n",
              "    </tr>\n",
              "  </tbody>\n",
              "</table>\n",
              "</div>"
            ],
            "text/plain": [
              "                                               Model  AUC Train    AUC CV  \\\n",
              "0  LogisticRegression(class_weight='balanced', ma...   0.922693  0.921730   \n",
              "1                           DecisionTreeClassifier()   1.000000  0.921730   \n",
              "2                                      Random Forest   1.000000  0.933843   \n",
              "3                                            xgBoost   0.969466  0.945306   \n",
              "\n",
              "   Precsion    Recall  \n",
              "0  0.880085  0.870333  \n",
              "1  1.000000  1.000000  \n",
              "2  0.999967  1.000000  \n",
              "3  0.896865  0.955713  "
            ]
          },
          "metadata": {},
          "output_type": "display_data"
        }
      ],
      "source": [
        "display(df_tuned)\n",
        "display(df_results)\n"
      ]
    },
    {
      "cell_type": "markdown",
      "metadata": {},
      "source": [
        "# Evaluation"
      ]
    },
    {
      "cell_type": "code",
      "execution_count": 45,
      "metadata": {},
      "outputs": [],
      "source": [
        "\n",
        "X_test = col_trans.transform(X=df_test)"
      ]
    },
    {
      "cell_type": "code",
      "execution_count": 166,
      "metadata": {},
      "outputs": [],
      "source": [
        "df_act_pred = pd.DataFrame(data=[], columns=[\"Model\", \"Actuals\", \"Predicted\"])\n",
        "\n"
      ]
    },
    {
      "cell_type": "code",
      "execution_count": 167,
      "metadata": {},
      "outputs": [
        {
          "data": {
            "text/plain": [
              "<matplotlib.legend.Legend at 0x295dff14fa0>"
            ]
          },
          "execution_count": 167,
          "metadata": {},
          "output_type": "execute_result"
        },
        {
          "data": {
            "image/png": "[encoded data removed]",
            "text/plain": [
              "<Figure size 432x288 with 1 Axes>"
            ]
          },
          "metadata": {
            "needs_background": "light"
          },
          "output_type": "display_data"
        }
      ],
      "source": [
        "plt.figure(0).clf()\n",
        "#Untuned XGB\n",
        "y_pred_f = xgb_cf.predict_proba(X_test)[:,1]\n",
        "y_pred_f_bin = xgb_cf.predict(X_test)\n",
        "fpr, tpr, thresh = metrics.roc_curve(y_test_f, y_pred_f)\n",
        "auc = metrics.roc_auc_score(y_test_f, y_pred_f)\n",
        "\n",
        "plt.plot(fpr,tpr,label=\"XG Boost default, auc=\"+str(auc))\n",
        "\n",
        "df_act_pred.loc[len(df_act_pred)] = [\"XG Boost default\", y_test_f, y_pred_f_bin]\n",
        "\n",
        "#Tuned XGB\n",
        "y_pred_f = xgb_cf_t.predict_proba(X_test)[:,1]\n",
        "y_pred_f_bin = xgb_cf_t.predict(X_test)\n",
        "fpr, tpr, thresh = metrics.roc_curve(y_test_f, y_pred_f)\n",
        "auc = metrics.roc_auc_score(y_test_f, y_pred_f)\n",
        "\n",
        "plt.plot(fpr,tpr,label=\"XG Boost tuned, auc=\"+str(auc))\n",
        "\n",
        "df_act_pred.loc[len(df_act_pred)] = [\"XG Boost tuned\", y_test_f, y_pred_f_bin]\n",
        "\n",
        "#Untuned Log Reg\n",
        "y_pred_f = lr_cf.predict_proba(X_test)[:,1]\n",
        "y_pred_f_bin = lr_cf.predict(X_test)\n",
        "fpr, tpr, thresh = metrics.roc_curve(y_test_f, y_pred_f)\n",
        "auc = metrics.roc_auc_score(y_test_f, y_pred_f)\n",
        "plt.plot(fpr,tpr,label=\"Log Reg, auc=\"+str(auc))\n",
        "\n",
        "df_act_pred.loc[len(df_act_pred)] = [\"Logistic Regression Untuned\", y_test_f, y_pred_f_bin]\n",
        "\n",
        "plt.legend(loc=0)"
      ]
    },
    {
      "cell_type": "code",
      "execution_count": 169,
      "metadata": {},
      "outputs": [
        {
          "data": {
            "text/plain": [
              "<Figure size 648x216 with 0 Axes>"
            ]
          },
          "execution_count": 169,
          "metadata": {},
          "output_type": "execute_result"
        },
        {
          "data": {
            "image/png": "[encoded data removed]",
            "text/plain": [
              "<Figure size 1080x216 with 6 Axes>"
            ]
          },
          "metadata": {
            "needs_background": "light"
          },
          "output_type": "display_data"
        },
        {
          "data": {
            "text/plain": [
              "<Figure size 648x216 with 0 Axes>"
            ]
          },
          "metadata": {},
          "output_type": "display_data"
        }
      ],
      "source": [
        "fig, axes = plt.subplots(nrows = 1, ncols = 3, figsize=(15,3))\n",
        "for i, row in df_act_pred.iterrows():\n",
        "    y_test_f = row['Actuals']\n",
        "    y_pred_f_bin = row['Predicted']\n",
        "    \n",
        "    confusion_matrix = metrics.confusion_matrix(y_test_f, y_pred_f_bin)\n",
        "\n",
        "    cm_display = metrics.ConfusionMatrixDisplay(confusion_matrix = confusion_matrix, display_labels = [False, True])\n",
        "    cm_display.plot(ax = axes[i])\n",
        "    cm_display.ax_.set_title(row['Model'])\n",
        "plt.figure(figsize=(9, 3))"
      ]
    }
  ],
  "metadata": {
    "colab": {
      "collapsed_sections": [
        "s9QK4M6bJG1C",
        "ipC-gfzyJG1f",
        "d9ImwcSDJG1f",
        "Cmef2rTsJG1h",
        "JyW8WC6hJG1j",
        "cJsudcKNJG1k",
        "etBpNARcJG1n",
        "WjosGzqvJG1p",
        "ZGbcckpOJG1q",
        "3O54UikJJG1r",
        "3Mrr3I-xJG1s",
        "h7AYHaeVJG1y",
        "4WH76QW9JG1z",
        "NlH2VvAuJG11"
      ],
      "name": "project2.ipynb",
      "provenance": []
    },
    "kernelspec": {
      "display_name": "Python 3.9.12 ('base')",
      "language": "python",
      "name": "python3"
    },
    "language_info": {
      "codemirror_mode": {
        "name": "ipython",
        "version": 3
      },
      "file_extension": ".py",
      "mimetype": "text/x-python",
      "name": "python",
      "nbconvert_exporter": "python",
      "pygments_lexer": "ipython3",
      "version": "3.9.12"
    },
    "vscode": {
      "interpreter": {
        "hash": "ae5b8d1165bd0e4ae79130fd603fdb66d8f280248725c14474f685f8a58f3aaa"
      }
    }
  },
  "nbformat": 4,
  "nbformat_minor": 0
}
